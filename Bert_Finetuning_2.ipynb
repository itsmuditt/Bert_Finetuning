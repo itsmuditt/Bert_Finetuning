{
  "nbformat": 4,
  "nbformat_minor": 0,
  "metadata": {
    "colab": {
      "provenance": [],
      "gpuType": "T4",
      "include_colab_link": true
    },
    "kernelspec": {
      "name": "python3",
      "display_name": "Python 3"
    },
    "language_info": {
      "name": "python"
    },
    "widgets": {
      "application/vnd.jupyter.widget-state+json": {
        "3d1e2feb9e814a368bf26b20ca875ab6": {
          "model_module": "@jupyter-widgets/controls",
          "model_name": "HBoxModel",
          "model_module_version": "1.5.0",
          "state": {
            "_dom_classes": [],
            "_model_module": "@jupyter-widgets/controls",
            "_model_module_version": "1.5.0",
            "_model_name": "HBoxModel",
            "_view_count": null,
            "_view_module": "@jupyter-widgets/controls",
            "_view_module_version": "1.5.0",
            "_view_name": "HBoxView",
            "box_style": "",
            "children": [
              "IPY_MODEL_014001c5294346b29743781434dc8da2",
              "IPY_MODEL_af2dcc7580914e8898a957d87a4aff75",
              "IPY_MODEL_7d2b8d64e8c64a99b73cba112686db05"
            ],
            "layout": "IPY_MODEL_1fe169899b69442c9f3bd8049d41e3dd"
          }
        },
        "014001c5294346b29743781434dc8da2": {
          "model_module": "@jupyter-widgets/controls",
          "model_name": "HTMLModel",
          "model_module_version": "1.5.0",
          "state": {
            "_dom_classes": [],
            "_model_module": "@jupyter-widgets/controls",
            "_model_module_version": "1.5.0",
            "_model_name": "HTMLModel",
            "_view_count": null,
            "_view_module": "@jupyter-widgets/controls",
            "_view_module_version": "1.5.0",
            "_view_name": "HTMLView",
            "description": "",
            "description_tooltip": null,
            "layout": "IPY_MODEL_466e2b0ddbf54a9db29baafa080e09f5",
            "placeholder": "​",
            "style": "IPY_MODEL_24064d1e99174d5fb6b2c6e790a0e1c2",
            "value": "config.json: 100%"
          }
        },
        "af2dcc7580914e8898a957d87a4aff75": {
          "model_module": "@jupyter-widgets/controls",
          "model_name": "FloatProgressModel",
          "model_module_version": "1.5.0",
          "state": {
            "_dom_classes": [],
            "_model_module": "@jupyter-widgets/controls",
            "_model_module_version": "1.5.0",
            "_model_name": "FloatProgressModel",
            "_view_count": null,
            "_view_module": "@jupyter-widgets/controls",
            "_view_module_version": "1.5.0",
            "_view_name": "ProgressView",
            "bar_style": "success",
            "description": "",
            "description_tooltip": null,
            "layout": "IPY_MODEL_d24e548a9474458fac9d1d0aac410a12",
            "max": 411,
            "min": 0,
            "orientation": "horizontal",
            "style": "IPY_MODEL_6f121bffd16840ab8c60fb25e6b3d9b1",
            "value": 411
          }
        },
        "7d2b8d64e8c64a99b73cba112686db05": {
          "model_module": "@jupyter-widgets/controls",
          "model_name": "HTMLModel",
          "model_module_version": "1.5.0",
          "state": {
            "_dom_classes": [],
            "_model_module": "@jupyter-widgets/controls",
            "_model_module_version": "1.5.0",
            "_model_name": "HTMLModel",
            "_view_count": null,
            "_view_module": "@jupyter-widgets/controls",
            "_view_module_version": "1.5.0",
            "_view_name": "HTMLView",
            "description": "",
            "description_tooltip": null,
            "layout": "IPY_MODEL_05c08c9368fb4a048dd6368e0e9c1b07",
            "placeholder": "​",
            "style": "IPY_MODEL_f6fd52cb7c254418a7045a519119b59d",
            "value": " 411/411 [00:00&lt;00:00, 21.2kB/s]"
          }
        },
        "1fe169899b69442c9f3bd8049d41e3dd": {
          "model_module": "@jupyter-widgets/base",
          "model_name": "LayoutModel",
          "model_module_version": "1.2.0",
          "state": {
            "_model_module": "@jupyter-widgets/base",
            "_model_module_version": "1.2.0",
            "_model_name": "LayoutModel",
            "_view_count": null,
            "_view_module": "@jupyter-widgets/base",
            "_view_module_version": "1.2.0",
            "_view_name": "LayoutView",
            "align_content": null,
            "align_items": null,
            "align_self": null,
            "border": null,
            "bottom": null,
            "display": null,
            "flex": null,
            "flex_flow": null,
            "grid_area": null,
            "grid_auto_columns": null,
            "grid_auto_flow": null,
            "grid_auto_rows": null,
            "grid_column": null,
            "grid_gap": null,
            "grid_row": null,
            "grid_template_areas": null,
            "grid_template_columns": null,
            "grid_template_rows": null,
            "height": null,
            "justify_content": null,
            "justify_items": null,
            "left": null,
            "margin": null,
            "max_height": null,
            "max_width": null,
            "min_height": null,
            "min_width": null,
            "object_fit": null,
            "object_position": null,
            "order": null,
            "overflow": null,
            "overflow_x": null,
            "overflow_y": null,
            "padding": null,
            "right": null,
            "top": null,
            "visibility": null,
            "width": null
          }
        },
        "466e2b0ddbf54a9db29baafa080e09f5": {
          "model_module": "@jupyter-widgets/base",
          "model_name": "LayoutModel",
          "model_module_version": "1.2.0",
          "state": {
            "_model_module": "@jupyter-widgets/base",
            "_model_module_version": "1.2.0",
            "_model_name": "LayoutModel",
            "_view_count": null,
            "_view_module": "@jupyter-widgets/base",
            "_view_module_version": "1.2.0",
            "_view_name": "LayoutView",
            "align_content": null,
            "align_items": null,
            "align_self": null,
            "border": null,
            "bottom": null,
            "display": null,
            "flex": null,
            "flex_flow": null,
            "grid_area": null,
            "grid_auto_columns": null,
            "grid_auto_flow": null,
            "grid_auto_rows": null,
            "grid_column": null,
            "grid_gap": null,
            "grid_row": null,
            "grid_template_areas": null,
            "grid_template_columns": null,
            "grid_template_rows": null,
            "height": null,
            "justify_content": null,
            "justify_items": null,
            "left": null,
            "margin": null,
            "max_height": null,
            "max_width": null,
            "min_height": null,
            "min_width": null,
            "object_fit": null,
            "object_position": null,
            "order": null,
            "overflow": null,
            "overflow_x": null,
            "overflow_y": null,
            "padding": null,
            "right": null,
            "top": null,
            "visibility": null,
            "width": null
          }
        },
        "24064d1e99174d5fb6b2c6e790a0e1c2": {
          "model_module": "@jupyter-widgets/controls",
          "model_name": "DescriptionStyleModel",
          "model_module_version": "1.5.0",
          "state": {
            "_model_module": "@jupyter-widgets/controls",
            "_model_module_version": "1.5.0",
            "_model_name": "DescriptionStyleModel",
            "_view_count": null,
            "_view_module": "@jupyter-widgets/base",
            "_view_module_version": "1.2.0",
            "_view_name": "StyleView",
            "description_width": ""
          }
        },
        "d24e548a9474458fac9d1d0aac410a12": {
          "model_module": "@jupyter-widgets/base",
          "model_name": "LayoutModel",
          "model_module_version": "1.2.0",
          "state": {
            "_model_module": "@jupyter-widgets/base",
            "_model_module_version": "1.2.0",
            "_model_name": "LayoutModel",
            "_view_count": null,
            "_view_module": "@jupyter-widgets/base",
            "_view_module_version": "1.2.0",
            "_view_name": "LayoutView",
            "align_content": null,
            "align_items": null,
            "align_self": null,
            "border": null,
            "bottom": null,
            "display": null,
            "flex": null,
            "flex_flow": null,
            "grid_area": null,
            "grid_auto_columns": null,
            "grid_auto_flow": null,
            "grid_auto_rows": null,
            "grid_column": null,
            "grid_gap": null,
            "grid_row": null,
            "grid_template_areas": null,
            "grid_template_columns": null,
            "grid_template_rows": null,
            "height": null,
            "justify_content": null,
            "justify_items": null,
            "left": null,
            "margin": null,
            "max_height": null,
            "max_width": null,
            "min_height": null,
            "min_width": null,
            "object_fit": null,
            "object_position": null,
            "order": null,
            "overflow": null,
            "overflow_x": null,
            "overflow_y": null,
            "padding": null,
            "right": null,
            "top": null,
            "visibility": null,
            "width": null
          }
        },
        "6f121bffd16840ab8c60fb25e6b3d9b1": {
          "model_module": "@jupyter-widgets/controls",
          "model_name": "ProgressStyleModel",
          "model_module_version": "1.5.0",
          "state": {
            "_model_module": "@jupyter-widgets/controls",
            "_model_module_version": "1.5.0",
            "_model_name": "ProgressStyleModel",
            "_view_count": null,
            "_view_module": "@jupyter-widgets/base",
            "_view_module_version": "1.2.0",
            "_view_name": "StyleView",
            "bar_color": null,
            "description_width": ""
          }
        },
        "05c08c9368fb4a048dd6368e0e9c1b07": {
          "model_module": "@jupyter-widgets/base",
          "model_name": "LayoutModel",
          "model_module_version": "1.2.0",
          "state": {
            "_model_module": "@jupyter-widgets/base",
            "_model_module_version": "1.2.0",
            "_model_name": "LayoutModel",
            "_view_count": null,
            "_view_module": "@jupyter-widgets/base",
            "_view_module_version": "1.2.0",
            "_view_name": "LayoutView",
            "align_content": null,
            "align_items": null,
            "align_self": null,
            "border": null,
            "bottom": null,
            "display": null,
            "flex": null,
            "flex_flow": null,
            "grid_area": null,
            "grid_auto_columns": null,
            "grid_auto_flow": null,
            "grid_auto_rows": null,
            "grid_column": null,
            "grid_gap": null,
            "grid_row": null,
            "grid_template_areas": null,
            "grid_template_columns": null,
            "grid_template_rows": null,
            "height": null,
            "justify_content": null,
            "justify_items": null,
            "left": null,
            "margin": null,
            "max_height": null,
            "max_width": null,
            "min_height": null,
            "min_width": null,
            "object_fit": null,
            "object_position": null,
            "order": null,
            "overflow": null,
            "overflow_x": null,
            "overflow_y": null,
            "padding": null,
            "right": null,
            "top": null,
            "visibility": null,
            "width": null
          }
        },
        "f6fd52cb7c254418a7045a519119b59d": {
          "model_module": "@jupyter-widgets/controls",
          "model_name": "DescriptionStyleModel",
          "model_module_version": "1.5.0",
          "state": {
            "_model_module": "@jupyter-widgets/controls",
            "_model_module_version": "1.5.0",
            "_model_name": "DescriptionStyleModel",
            "_view_count": null,
            "_view_module": "@jupyter-widgets/base",
            "_view_module_version": "1.2.0",
            "_view_name": "StyleView",
            "description_width": ""
          }
        },
        "5b7a755d418e449d9a501405edc7cbdf": {
          "model_module": "@jupyter-widgets/controls",
          "model_name": "HBoxModel",
          "model_module_version": "1.5.0",
          "state": {
            "_dom_classes": [],
            "_model_module": "@jupyter-widgets/controls",
            "_model_module_version": "1.5.0",
            "_model_name": "HBoxModel",
            "_view_count": null,
            "_view_module": "@jupyter-widgets/controls",
            "_view_module_version": "1.5.0",
            "_view_name": "HBoxView",
            "box_style": "",
            "children": [
              "IPY_MODEL_fd91872e7dd84e4ba40c673d68ea69af",
              "IPY_MODEL_71c2a244f4f24ab18d2fbcea5ff04642",
              "IPY_MODEL_fd9d827cd30240179746ddadd8abc78c"
            ],
            "layout": "IPY_MODEL_4a9a407eb5ff4be7b50b1083b1462d4b"
          }
        },
        "fd91872e7dd84e4ba40c673d68ea69af": {
          "model_module": "@jupyter-widgets/controls",
          "model_name": "HTMLModel",
          "model_module_version": "1.5.0",
          "state": {
            "_dom_classes": [],
            "_model_module": "@jupyter-widgets/controls",
            "_model_module_version": "1.5.0",
            "_model_name": "HTMLModel",
            "_view_count": null,
            "_view_module": "@jupyter-widgets/controls",
            "_view_module_version": "1.5.0",
            "_view_name": "HTMLView",
            "description": "",
            "description_tooltip": null,
            "layout": "IPY_MODEL_c139b030d2e64c6485d11805c691c6e6",
            "placeholder": "​",
            "style": "IPY_MODEL_a01468f8779e4383b7cb8cacd07180c2",
            "value": "vocab.txt: 100%"
          }
        },
        "71c2a244f4f24ab18d2fbcea5ff04642": {
          "model_module": "@jupyter-widgets/controls",
          "model_name": "FloatProgressModel",
          "model_module_version": "1.5.0",
          "state": {
            "_dom_classes": [],
            "_model_module": "@jupyter-widgets/controls",
            "_model_module_version": "1.5.0",
            "_model_name": "FloatProgressModel",
            "_view_count": null,
            "_view_module": "@jupyter-widgets/controls",
            "_view_module_version": "1.5.0",
            "_view_name": "ProgressView",
            "bar_style": "success",
            "description": "",
            "description_tooltip": null,
            "layout": "IPY_MODEL_56c9cfd391c94948b9678870a1e5a1e7",
            "max": 3162999,
            "min": 0,
            "orientation": "horizontal",
            "style": "IPY_MODEL_254ee2984dfa430da9a5643d0730c00c",
            "value": 3162999
          }
        },
        "fd9d827cd30240179746ddadd8abc78c": {
          "model_module": "@jupyter-widgets/controls",
          "model_name": "HTMLModel",
          "model_module_version": "1.5.0",
          "state": {
            "_dom_classes": [],
            "_model_module": "@jupyter-widgets/controls",
            "_model_module_version": "1.5.0",
            "_model_name": "HTMLModel",
            "_view_count": null,
            "_view_module": "@jupyter-widgets/controls",
            "_view_module_version": "1.5.0",
            "_view_name": "HTMLView",
            "description": "",
            "description_tooltip": null,
            "layout": "IPY_MODEL_468dee293c5f4ee686f818b11465117c",
            "placeholder": "​",
            "style": "IPY_MODEL_dada2daae8e441638cf36295ee6e9799",
            "value": " 3.16M/3.16M [00:00&lt;00:00, 11.9MB/s]"
          }
        },
        "4a9a407eb5ff4be7b50b1083b1462d4b": {
          "model_module": "@jupyter-widgets/base",
          "model_name": "LayoutModel",
          "model_module_version": "1.2.0",
          "state": {
            "_model_module": "@jupyter-widgets/base",
            "_model_module_version": "1.2.0",
            "_model_name": "LayoutModel",
            "_view_count": null,
            "_view_module": "@jupyter-widgets/base",
            "_view_module_version": "1.2.0",
            "_view_name": "LayoutView",
            "align_content": null,
            "align_items": null,
            "align_self": null,
            "border": null,
            "bottom": null,
            "display": null,
            "flex": null,
            "flex_flow": null,
            "grid_area": null,
            "grid_auto_columns": null,
            "grid_auto_flow": null,
            "grid_auto_rows": null,
            "grid_column": null,
            "grid_gap": null,
            "grid_row": null,
            "grid_template_areas": null,
            "grid_template_columns": null,
            "grid_template_rows": null,
            "height": null,
            "justify_content": null,
            "justify_items": null,
            "left": null,
            "margin": null,
            "max_height": null,
            "max_width": null,
            "min_height": null,
            "min_width": null,
            "object_fit": null,
            "object_position": null,
            "order": null,
            "overflow": null,
            "overflow_x": null,
            "overflow_y": null,
            "padding": null,
            "right": null,
            "top": null,
            "visibility": null,
            "width": null
          }
        },
        "c139b030d2e64c6485d11805c691c6e6": {
          "model_module": "@jupyter-widgets/base",
          "model_name": "LayoutModel",
          "model_module_version": "1.2.0",
          "state": {
            "_model_module": "@jupyter-widgets/base",
            "_model_module_version": "1.2.0",
            "_model_name": "LayoutModel",
            "_view_count": null,
            "_view_module": "@jupyter-widgets/base",
            "_view_module_version": "1.2.0",
            "_view_name": "LayoutView",
            "align_content": null,
            "align_items": null,
            "align_self": null,
            "border": null,
            "bottom": null,
            "display": null,
            "flex": null,
            "flex_flow": null,
            "grid_area": null,
            "grid_auto_columns": null,
            "grid_auto_flow": null,
            "grid_auto_rows": null,
            "grid_column": null,
            "grid_gap": null,
            "grid_row": null,
            "grid_template_areas": null,
            "grid_template_columns": null,
            "grid_template_rows": null,
            "height": null,
            "justify_content": null,
            "justify_items": null,
            "left": null,
            "margin": null,
            "max_height": null,
            "max_width": null,
            "min_height": null,
            "min_width": null,
            "object_fit": null,
            "object_position": null,
            "order": null,
            "overflow": null,
            "overflow_x": null,
            "overflow_y": null,
            "padding": null,
            "right": null,
            "top": null,
            "visibility": null,
            "width": null
          }
        },
        "a01468f8779e4383b7cb8cacd07180c2": {
          "model_module": "@jupyter-widgets/controls",
          "model_name": "DescriptionStyleModel",
          "model_module_version": "1.5.0",
          "state": {
            "_model_module": "@jupyter-widgets/controls",
            "_model_module_version": "1.5.0",
            "_model_name": "DescriptionStyleModel",
            "_view_count": null,
            "_view_module": "@jupyter-widgets/base",
            "_view_module_version": "1.2.0",
            "_view_name": "StyleView",
            "description_width": ""
          }
        },
        "56c9cfd391c94948b9678870a1e5a1e7": {
          "model_module": "@jupyter-widgets/base",
          "model_name": "LayoutModel",
          "model_module_version": "1.2.0",
          "state": {
            "_model_module": "@jupyter-widgets/base",
            "_model_module_version": "1.2.0",
            "_model_name": "LayoutModel",
            "_view_count": null,
            "_view_module": "@jupyter-widgets/base",
            "_view_module_version": "1.2.0",
            "_view_name": "LayoutView",
            "align_content": null,
            "align_items": null,
            "align_self": null,
            "border": null,
            "bottom": null,
            "display": null,
            "flex": null,
            "flex_flow": null,
            "grid_area": null,
            "grid_auto_columns": null,
            "grid_auto_flow": null,
            "grid_auto_rows": null,
            "grid_column": null,
            "grid_gap": null,
            "grid_row": null,
            "grid_template_areas": null,
            "grid_template_columns": null,
            "grid_template_rows": null,
            "height": null,
            "justify_content": null,
            "justify_items": null,
            "left": null,
            "margin": null,
            "max_height": null,
            "max_width": null,
            "min_height": null,
            "min_width": null,
            "object_fit": null,
            "object_position": null,
            "order": null,
            "overflow": null,
            "overflow_x": null,
            "overflow_y": null,
            "padding": null,
            "right": null,
            "top": null,
            "visibility": null,
            "width": null
          }
        },
        "254ee2984dfa430da9a5643d0730c00c": {
          "model_module": "@jupyter-widgets/controls",
          "model_name": "ProgressStyleModel",
          "model_module_version": "1.5.0",
          "state": {
            "_model_module": "@jupyter-widgets/controls",
            "_model_module_version": "1.5.0",
            "_model_name": "ProgressStyleModel",
            "_view_count": null,
            "_view_module": "@jupyter-widgets/base",
            "_view_module_version": "1.2.0",
            "_view_name": "StyleView",
            "bar_color": null,
            "description_width": ""
          }
        },
        "468dee293c5f4ee686f818b11465117c": {
          "model_module": "@jupyter-widgets/base",
          "model_name": "LayoutModel",
          "model_module_version": "1.2.0",
          "state": {
            "_model_module": "@jupyter-widgets/base",
            "_model_module_version": "1.2.0",
            "_model_name": "LayoutModel",
            "_view_count": null,
            "_view_module": "@jupyter-widgets/base",
            "_view_module_version": "1.2.0",
            "_view_name": "LayoutView",
            "align_content": null,
            "align_items": null,
            "align_self": null,
            "border": null,
            "bottom": null,
            "display": null,
            "flex": null,
            "flex_flow": null,
            "grid_area": null,
            "grid_auto_columns": null,
            "grid_auto_flow": null,
            "grid_auto_rows": null,
            "grid_column": null,
            "grid_gap": null,
            "grid_row": null,
            "grid_template_areas": null,
            "grid_template_columns": null,
            "grid_template_rows": null,
            "height": null,
            "justify_content": null,
            "justify_items": null,
            "left": null,
            "margin": null,
            "max_height": null,
            "max_width": null,
            "min_height": null,
            "min_width": null,
            "object_fit": null,
            "object_position": null,
            "order": null,
            "overflow": null,
            "overflow_x": null,
            "overflow_y": null,
            "padding": null,
            "right": null,
            "top": null,
            "visibility": null,
            "width": null
          }
        },
        "dada2daae8e441638cf36295ee6e9799": {
          "model_module": "@jupyter-widgets/controls",
          "model_name": "DescriptionStyleModel",
          "model_module_version": "1.5.0",
          "state": {
            "_model_module": "@jupyter-widgets/controls",
            "_model_module_version": "1.5.0",
            "_model_name": "DescriptionStyleModel",
            "_view_count": null,
            "_view_module": "@jupyter-widgets/base",
            "_view_module_version": "1.2.0",
            "_view_name": "StyleView",
            "description_width": ""
          }
        },
        "fed8a305828e41f092a5605f9d20ff9b": {
          "model_module": "@jupyter-widgets/controls",
          "model_name": "HBoxModel",
          "model_module_version": "1.5.0",
          "state": {
            "_dom_classes": [],
            "_model_module": "@jupyter-widgets/controls",
            "_model_module_version": "1.5.0",
            "_model_name": "HBoxModel",
            "_view_count": null,
            "_view_module": "@jupyter-widgets/controls",
            "_view_module_version": "1.5.0",
            "_view_name": "HBoxView",
            "box_style": "",
            "children": [
              "IPY_MODEL_f39470a596ab48dbb01f05a0fe154520",
              "IPY_MODEL_33c35834c66d4dcda2b2d8ef533e8ef7",
              "IPY_MODEL_e40a6ceb55f34830abaa4aaaa250017d"
            ],
            "layout": "IPY_MODEL_2cef24a980e14777b3bdf8012dd86686"
          }
        },
        "f39470a596ab48dbb01f05a0fe154520": {
          "model_module": "@jupyter-widgets/controls",
          "model_name": "HTMLModel",
          "model_module_version": "1.5.0",
          "state": {
            "_dom_classes": [],
            "_model_module": "@jupyter-widgets/controls",
            "_model_module_version": "1.5.0",
            "_model_name": "HTMLModel",
            "_view_count": null,
            "_view_module": "@jupyter-widgets/controls",
            "_view_module_version": "1.5.0",
            "_view_name": "HTMLView",
            "description": "",
            "description_tooltip": null,
            "layout": "IPY_MODEL_a05012e541794b7f86e3cf8b56ca6e18",
            "placeholder": "​",
            "style": "IPY_MODEL_44fa723c4cd6438493352b9fc61cef80",
            "value": "special_tokens_map.json: 100%"
          }
        },
        "33c35834c66d4dcda2b2d8ef533e8ef7": {
          "model_module": "@jupyter-widgets/controls",
          "model_name": "FloatProgressModel",
          "model_module_version": "1.5.0",
          "state": {
            "_dom_classes": [],
            "_model_module": "@jupyter-widgets/controls",
            "_model_module_version": "1.5.0",
            "_model_name": "FloatProgressModel",
            "_view_count": null,
            "_view_module": "@jupyter-widgets/controls",
            "_view_module_version": "1.5.0",
            "_view_name": "ProgressView",
            "bar_style": "success",
            "description": "",
            "description_tooltip": null,
            "layout": "IPY_MODEL_15ae4f5ad5e941208e210c6327b47a92",
            "max": 113,
            "min": 0,
            "orientation": "horizontal",
            "style": "IPY_MODEL_a596906f430449c2bd02fbdd504bc383",
            "value": 113
          }
        },
        "e40a6ceb55f34830abaa4aaaa250017d": {
          "model_module": "@jupyter-widgets/controls",
          "model_name": "HTMLModel",
          "model_module_version": "1.5.0",
          "state": {
            "_dom_classes": [],
            "_model_module": "@jupyter-widgets/controls",
            "_model_module_version": "1.5.0",
            "_model_name": "HTMLModel",
            "_view_count": null,
            "_view_module": "@jupyter-widgets/controls",
            "_view_module_version": "1.5.0",
            "_view_name": "HTMLView",
            "description": "",
            "description_tooltip": null,
            "layout": "IPY_MODEL_749460a4cb034619b52c60e4cb2c9614",
            "placeholder": "​",
            "style": "IPY_MODEL_70be6cff0699443d8239553911eb540f",
            "value": " 113/113 [00:00&lt;00:00, 2.09kB/s]"
          }
        },
        "2cef24a980e14777b3bdf8012dd86686": {
          "model_module": "@jupyter-widgets/base",
          "model_name": "LayoutModel",
          "model_module_version": "1.2.0",
          "state": {
            "_model_module": "@jupyter-widgets/base",
            "_model_module_version": "1.2.0",
            "_model_name": "LayoutModel",
            "_view_count": null,
            "_view_module": "@jupyter-widgets/base",
            "_view_module_version": "1.2.0",
            "_view_name": "LayoutView",
            "align_content": null,
            "align_items": null,
            "align_self": null,
            "border": null,
            "bottom": null,
            "display": null,
            "flex": null,
            "flex_flow": null,
            "grid_area": null,
            "grid_auto_columns": null,
            "grid_auto_flow": null,
            "grid_auto_rows": null,
            "grid_column": null,
            "grid_gap": null,
            "grid_row": null,
            "grid_template_areas": null,
            "grid_template_columns": null,
            "grid_template_rows": null,
            "height": null,
            "justify_content": null,
            "justify_items": null,
            "left": null,
            "margin": null,
            "max_height": null,
            "max_width": null,
            "min_height": null,
            "min_width": null,
            "object_fit": null,
            "object_position": null,
            "order": null,
            "overflow": null,
            "overflow_x": null,
            "overflow_y": null,
            "padding": null,
            "right": null,
            "top": null,
            "visibility": null,
            "width": null
          }
        },
        "a05012e541794b7f86e3cf8b56ca6e18": {
          "model_module": "@jupyter-widgets/base",
          "model_name": "LayoutModel",
          "model_module_version": "1.2.0",
          "state": {
            "_model_module": "@jupyter-widgets/base",
            "_model_module_version": "1.2.0",
            "_model_name": "LayoutModel",
            "_view_count": null,
            "_view_module": "@jupyter-widgets/base",
            "_view_module_version": "1.2.0",
            "_view_name": "LayoutView",
            "align_content": null,
            "align_items": null,
            "align_self": null,
            "border": null,
            "bottom": null,
            "display": null,
            "flex": null,
            "flex_flow": null,
            "grid_area": null,
            "grid_auto_columns": null,
            "grid_auto_flow": null,
            "grid_auto_rows": null,
            "grid_column": null,
            "grid_gap": null,
            "grid_row": null,
            "grid_template_areas": null,
            "grid_template_columns": null,
            "grid_template_rows": null,
            "height": null,
            "justify_content": null,
            "justify_items": null,
            "left": null,
            "margin": null,
            "max_height": null,
            "max_width": null,
            "min_height": null,
            "min_width": null,
            "object_fit": null,
            "object_position": null,
            "order": null,
            "overflow": null,
            "overflow_x": null,
            "overflow_y": null,
            "padding": null,
            "right": null,
            "top": null,
            "visibility": null,
            "width": null
          }
        },
        "44fa723c4cd6438493352b9fc61cef80": {
          "model_module": "@jupyter-widgets/controls",
          "model_name": "DescriptionStyleModel",
          "model_module_version": "1.5.0",
          "state": {
            "_model_module": "@jupyter-widgets/controls",
            "_model_module_version": "1.5.0",
            "_model_name": "DescriptionStyleModel",
            "_view_count": null,
            "_view_module": "@jupyter-widgets/base",
            "_view_module_version": "1.2.0",
            "_view_name": "StyleView",
            "description_width": ""
          }
        },
        "15ae4f5ad5e941208e210c6327b47a92": {
          "model_module": "@jupyter-widgets/base",
          "model_name": "LayoutModel",
          "model_module_version": "1.2.0",
          "state": {
            "_model_module": "@jupyter-widgets/base",
            "_model_module_version": "1.2.0",
            "_model_name": "LayoutModel",
            "_view_count": null,
            "_view_module": "@jupyter-widgets/base",
            "_view_module_version": "1.2.0",
            "_view_name": "LayoutView",
            "align_content": null,
            "align_items": null,
            "align_self": null,
            "border": null,
            "bottom": null,
            "display": null,
            "flex": null,
            "flex_flow": null,
            "grid_area": null,
            "grid_auto_columns": null,
            "grid_auto_flow": null,
            "grid_auto_rows": null,
            "grid_column": null,
            "grid_gap": null,
            "grid_row": null,
            "grid_template_areas": null,
            "grid_template_columns": null,
            "grid_template_rows": null,
            "height": null,
            "justify_content": null,
            "justify_items": null,
            "left": null,
            "margin": null,
            "max_height": null,
            "max_width": null,
            "min_height": null,
            "min_width": null,
            "object_fit": null,
            "object_position": null,
            "order": null,
            "overflow": null,
            "overflow_x": null,
            "overflow_y": null,
            "padding": null,
            "right": null,
            "top": null,
            "visibility": null,
            "width": null
          }
        },
        "a596906f430449c2bd02fbdd504bc383": {
          "model_module": "@jupyter-widgets/controls",
          "model_name": "ProgressStyleModel",
          "model_module_version": "1.5.0",
          "state": {
            "_model_module": "@jupyter-widgets/controls",
            "_model_module_version": "1.5.0",
            "_model_name": "ProgressStyleModel",
            "_view_count": null,
            "_view_module": "@jupyter-widgets/base",
            "_view_module_version": "1.2.0",
            "_view_name": "StyleView",
            "bar_color": null,
            "description_width": ""
          }
        },
        "749460a4cb034619b52c60e4cb2c9614": {
          "model_module": "@jupyter-widgets/base",
          "model_name": "LayoutModel",
          "model_module_version": "1.2.0",
          "state": {
            "_model_module": "@jupyter-widgets/base",
            "_model_module_version": "1.2.0",
            "_model_name": "LayoutModel",
            "_view_count": null,
            "_view_module": "@jupyter-widgets/base",
            "_view_module_version": "1.2.0",
            "_view_name": "LayoutView",
            "align_content": null,
            "align_items": null,
            "align_self": null,
            "border": null,
            "bottom": null,
            "display": null,
            "flex": null,
            "flex_flow": null,
            "grid_area": null,
            "grid_auto_columns": null,
            "grid_auto_flow": null,
            "grid_auto_rows": null,
            "grid_column": null,
            "grid_gap": null,
            "grid_row": null,
            "grid_template_areas": null,
            "grid_template_columns": null,
            "grid_template_rows": null,
            "height": null,
            "justify_content": null,
            "justify_items": null,
            "left": null,
            "margin": null,
            "max_height": null,
            "max_width": null,
            "min_height": null,
            "min_width": null,
            "object_fit": null,
            "object_position": null,
            "order": null,
            "overflow": null,
            "overflow_x": null,
            "overflow_y": null,
            "padding": null,
            "right": null,
            "top": null,
            "visibility": null,
            "width": null
          }
        },
        "70be6cff0699443d8239553911eb540f": {
          "model_module": "@jupyter-widgets/controls",
          "model_name": "DescriptionStyleModel",
          "model_module_version": "1.5.0",
          "state": {
            "_model_module": "@jupyter-widgets/controls",
            "_model_module_version": "1.5.0",
            "_model_name": "DescriptionStyleModel",
            "_view_count": null,
            "_view_module": "@jupyter-widgets/base",
            "_view_module_version": "1.2.0",
            "_view_name": "StyleView",
            "description_width": ""
          }
        },
        "9580c15fbf4344b7a2394b4382f2338a": {
          "model_module": "@jupyter-widgets/controls",
          "model_name": "HBoxModel",
          "model_module_version": "1.5.0",
          "state": {
            "_dom_classes": [],
            "_model_module": "@jupyter-widgets/controls",
            "_model_module_version": "1.5.0",
            "_model_name": "HBoxModel",
            "_view_count": null,
            "_view_module": "@jupyter-widgets/controls",
            "_view_module_version": "1.5.0",
            "_view_name": "HBoxView",
            "box_style": "",
            "children": [
              "IPY_MODEL_6365131c659840f09da2d105066e7eb2",
              "IPY_MODEL_ce36a4ca3f1446618dcb18ab22f36157",
              "IPY_MODEL_d92439aea18e456888ec5734a2a9f3a3"
            ],
            "layout": "IPY_MODEL_071aac80cae049aca3f1ee8db23ff1f8"
          }
        },
        "6365131c659840f09da2d105066e7eb2": {
          "model_module": "@jupyter-widgets/controls",
          "model_name": "HTMLModel",
          "model_module_version": "1.5.0",
          "state": {
            "_dom_classes": [],
            "_model_module": "@jupyter-widgets/controls",
            "_model_module_version": "1.5.0",
            "_model_name": "HTMLModel",
            "_view_count": null,
            "_view_module": "@jupyter-widgets/controls",
            "_view_module_version": "1.5.0",
            "_view_name": "HTMLView",
            "description": "",
            "description_tooltip": null,
            "layout": "IPY_MODEL_6832a882a2fb474197966fcffc39a832",
            "placeholder": "​",
            "style": "IPY_MODEL_5947bd1538dd4b3aac3dbcfdbf7c9cf2",
            "value": "tf_model.h5: 100%"
          }
        },
        "ce36a4ca3f1446618dcb18ab22f36157": {
          "model_module": "@jupyter-widgets/controls",
          "model_name": "FloatProgressModel",
          "model_module_version": "1.5.0",
          "state": {
            "_dom_classes": [],
            "_model_module": "@jupyter-widgets/controls",
            "_model_module_version": "1.5.0",
            "_model_name": "FloatProgressModel",
            "_view_count": null,
            "_view_module": "@jupyter-widgets/controls",
            "_view_module_version": "1.5.0",
            "_view_name": "ProgressView",
            "bar_style": "success",
            "description": "",
            "description_tooltip": null,
            "layout": "IPY_MODEL_dcb26a5739c54c198b2a17884901940c",
            "max": 1558943652,
            "min": 0,
            "orientation": "horizontal",
            "style": "IPY_MODEL_01cdb771dfa74dc19719210d4e35c548",
            "value": 1558943652
          }
        },
        "d92439aea18e456888ec5734a2a9f3a3": {
          "model_module": "@jupyter-widgets/controls",
          "model_name": "HTMLModel",
          "model_module_version": "1.5.0",
          "state": {
            "_dom_classes": [],
            "_model_module": "@jupyter-widgets/controls",
            "_model_module_version": "1.5.0",
            "_model_name": "HTMLModel",
            "_view_count": null,
            "_view_module": "@jupyter-widgets/controls",
            "_view_module_version": "1.5.0",
            "_view_name": "HTMLView",
            "description": "",
            "description_tooltip": null,
            "layout": "IPY_MODEL_8b1aa19a4d784358a1a0d8805d03ee60",
            "placeholder": "​",
            "style": "IPY_MODEL_eb557b79ad224bf8b7dd9260167788a2",
            "value": " 1.56G/1.56G [00:12&lt;00:00, 230MB/s]"
          }
        },
        "071aac80cae049aca3f1ee8db23ff1f8": {
          "model_module": "@jupyter-widgets/base",
          "model_name": "LayoutModel",
          "model_module_version": "1.2.0",
          "state": {
            "_model_module": "@jupyter-widgets/base",
            "_model_module_version": "1.2.0",
            "_model_name": "LayoutModel",
            "_view_count": null,
            "_view_module": "@jupyter-widgets/base",
            "_view_module_version": "1.2.0",
            "_view_name": "LayoutView",
            "align_content": null,
            "align_items": null,
            "align_self": null,
            "border": null,
            "bottom": null,
            "display": null,
            "flex": null,
            "flex_flow": null,
            "grid_area": null,
            "grid_auto_columns": null,
            "grid_auto_flow": null,
            "grid_auto_rows": null,
            "grid_column": null,
            "grid_gap": null,
            "grid_row": null,
            "grid_template_areas": null,
            "grid_template_columns": null,
            "grid_template_rows": null,
            "height": null,
            "justify_content": null,
            "justify_items": null,
            "left": null,
            "margin": null,
            "max_height": null,
            "max_width": null,
            "min_height": null,
            "min_width": null,
            "object_fit": null,
            "object_position": null,
            "order": null,
            "overflow": null,
            "overflow_x": null,
            "overflow_y": null,
            "padding": null,
            "right": null,
            "top": null,
            "visibility": null,
            "width": null
          }
        },
        "6832a882a2fb474197966fcffc39a832": {
          "model_module": "@jupyter-widgets/base",
          "model_name": "LayoutModel",
          "model_module_version": "1.2.0",
          "state": {
            "_model_module": "@jupyter-widgets/base",
            "_model_module_version": "1.2.0",
            "_model_name": "LayoutModel",
            "_view_count": null,
            "_view_module": "@jupyter-widgets/base",
            "_view_module_version": "1.2.0",
            "_view_name": "LayoutView",
            "align_content": null,
            "align_items": null,
            "align_self": null,
            "border": null,
            "bottom": null,
            "display": null,
            "flex": null,
            "flex_flow": null,
            "grid_area": null,
            "grid_auto_columns": null,
            "grid_auto_flow": null,
            "grid_auto_rows": null,
            "grid_column": null,
            "grid_gap": null,
            "grid_row": null,
            "grid_template_areas": null,
            "grid_template_columns": null,
            "grid_template_rows": null,
            "height": null,
            "justify_content": null,
            "justify_items": null,
            "left": null,
            "margin": null,
            "max_height": null,
            "max_width": null,
            "min_height": null,
            "min_width": null,
            "object_fit": null,
            "object_position": null,
            "order": null,
            "overflow": null,
            "overflow_x": null,
            "overflow_y": null,
            "padding": null,
            "right": null,
            "top": null,
            "visibility": null,
            "width": null
          }
        },
        "5947bd1538dd4b3aac3dbcfdbf7c9cf2": {
          "model_module": "@jupyter-widgets/controls",
          "model_name": "DescriptionStyleModel",
          "model_module_version": "1.5.0",
          "state": {
            "_model_module": "@jupyter-widgets/controls",
            "_model_module_version": "1.5.0",
            "_model_name": "DescriptionStyleModel",
            "_view_count": null,
            "_view_module": "@jupyter-widgets/base",
            "_view_module_version": "1.2.0",
            "_view_name": "StyleView",
            "description_width": ""
          }
        },
        "dcb26a5739c54c198b2a17884901940c": {
          "model_module": "@jupyter-widgets/base",
          "model_name": "LayoutModel",
          "model_module_version": "1.2.0",
          "state": {
            "_model_module": "@jupyter-widgets/base",
            "_model_module_version": "1.2.0",
            "_model_name": "LayoutModel",
            "_view_count": null,
            "_view_module": "@jupyter-widgets/base",
            "_view_module_version": "1.2.0",
            "_view_name": "LayoutView",
            "align_content": null,
            "align_items": null,
            "align_self": null,
            "border": null,
            "bottom": null,
            "display": null,
            "flex": null,
            "flex_flow": null,
            "grid_area": null,
            "grid_auto_columns": null,
            "grid_auto_flow": null,
            "grid_auto_rows": null,
            "grid_column": null,
            "grid_gap": null,
            "grid_row": null,
            "grid_template_areas": null,
            "grid_template_columns": null,
            "grid_template_rows": null,
            "height": null,
            "justify_content": null,
            "justify_items": null,
            "left": null,
            "margin": null,
            "max_height": null,
            "max_width": null,
            "min_height": null,
            "min_width": null,
            "object_fit": null,
            "object_position": null,
            "order": null,
            "overflow": null,
            "overflow_x": null,
            "overflow_y": null,
            "padding": null,
            "right": null,
            "top": null,
            "visibility": null,
            "width": null
          }
        },
        "01cdb771dfa74dc19719210d4e35c548": {
          "model_module": "@jupyter-widgets/controls",
          "model_name": "ProgressStyleModel",
          "model_module_version": "1.5.0",
          "state": {
            "_model_module": "@jupyter-widgets/controls",
            "_model_module_version": "1.5.0",
            "_model_name": "ProgressStyleModel",
            "_view_count": null,
            "_view_module": "@jupyter-widgets/base",
            "_view_module_version": "1.2.0",
            "_view_name": "StyleView",
            "bar_color": null,
            "description_width": ""
          }
        },
        "8b1aa19a4d784358a1a0d8805d03ee60": {
          "model_module": "@jupyter-widgets/base",
          "model_name": "LayoutModel",
          "model_module_version": "1.2.0",
          "state": {
            "_model_module": "@jupyter-widgets/base",
            "_model_module_version": "1.2.0",
            "_model_name": "LayoutModel",
            "_view_count": null,
            "_view_module": "@jupyter-widgets/base",
            "_view_module_version": "1.2.0",
            "_view_name": "LayoutView",
            "align_content": null,
            "align_items": null,
            "align_self": null,
            "border": null,
            "bottom": null,
            "display": null,
            "flex": null,
            "flex_flow": null,
            "grid_area": null,
            "grid_auto_columns": null,
            "grid_auto_flow": null,
            "grid_auto_rows": null,
            "grid_column": null,
            "grid_gap": null,
            "grid_row": null,
            "grid_template_areas": null,
            "grid_template_columns": null,
            "grid_template_rows": null,
            "height": null,
            "justify_content": null,
            "justify_items": null,
            "left": null,
            "margin": null,
            "max_height": null,
            "max_width": null,
            "min_height": null,
            "min_width": null,
            "object_fit": null,
            "object_position": null,
            "order": null,
            "overflow": null,
            "overflow_x": null,
            "overflow_y": null,
            "padding": null,
            "right": null,
            "top": null,
            "visibility": null,
            "width": null
          }
        },
        "eb557b79ad224bf8b7dd9260167788a2": {
          "model_module": "@jupyter-widgets/controls",
          "model_name": "DescriptionStyleModel",
          "model_module_version": "1.5.0",
          "state": {
            "_model_module": "@jupyter-widgets/controls",
            "_model_module_version": "1.5.0",
            "_model_name": "DescriptionStyleModel",
            "_view_count": null,
            "_view_module": "@jupyter-widgets/base",
            "_view_module_version": "1.2.0",
            "_view_name": "StyleView",
            "description_width": ""
          }
        },
        "303271520d304ef0a5cc841f4958d458": {
          "model_module": "@jupyter-widgets/controls",
          "model_name": "HBoxModel",
          "model_module_version": "1.5.0",
          "state": {
            "_dom_classes": [],
            "_model_module": "@jupyter-widgets/controls",
            "_model_module_version": "1.5.0",
            "_model_name": "HBoxModel",
            "_view_count": null,
            "_view_module": "@jupyter-widgets/controls",
            "_view_module_version": "1.5.0",
            "_view_name": "HBoxView",
            "box_style": "",
            "children": [
              "IPY_MODEL_6bb7d3a5332044a9b1d58ca182b323ae",
              "IPY_MODEL_205a4ba95ea84f6db35c31cb458ceda3",
              "IPY_MODEL_54fe0ad779294aad956404cd69cae5b2"
            ],
            "layout": "IPY_MODEL_940e16d6f6c743f4898d60c83b6ce56f"
          }
        },
        "6bb7d3a5332044a9b1d58ca182b323ae": {
          "model_module": "@jupyter-widgets/controls",
          "model_name": "HTMLModel",
          "model_module_version": "1.5.0",
          "state": {
            "_dom_classes": [],
            "_model_module": "@jupyter-widgets/controls",
            "_model_module_version": "1.5.0",
            "_model_name": "HTMLModel",
            "_view_count": null,
            "_view_module": "@jupyter-widgets/controls",
            "_view_module_version": "1.5.0",
            "_view_name": "HTMLView",
            "description": "",
            "description_tooltip": null,
            "layout": "IPY_MODEL_4c6fec0f23c24fd284f68a1987bc667c",
            "placeholder": "​",
            "style": "IPY_MODEL_565f56f16197423592e2a2e2e3b6c3d9",
            "value": "Map: 100%"
          }
        },
        "205a4ba95ea84f6db35c31cb458ceda3": {
          "model_module": "@jupyter-widgets/controls",
          "model_name": "FloatProgressModel",
          "model_module_version": "1.5.0",
          "state": {
            "_dom_classes": [],
            "_model_module": "@jupyter-widgets/controls",
            "_model_module_version": "1.5.0",
            "_model_name": "FloatProgressModel",
            "_view_count": null,
            "_view_module": "@jupyter-widgets/controls",
            "_view_module_version": "1.5.0",
            "_view_name": "ProgressView",
            "bar_style": "success",
            "description": "",
            "description_tooltip": null,
            "layout": "IPY_MODEL_0a610913d2ce465dae321cd01e7e97b3",
            "max": 2247,
            "min": 0,
            "orientation": "horizontal",
            "style": "IPY_MODEL_aa3c00b0827444daaf1cfccc17720c62",
            "value": 2247
          }
        },
        "54fe0ad779294aad956404cd69cae5b2": {
          "model_module": "@jupyter-widgets/controls",
          "model_name": "HTMLModel",
          "model_module_version": "1.5.0",
          "state": {
            "_dom_classes": [],
            "_model_module": "@jupyter-widgets/controls",
            "_model_module_version": "1.5.0",
            "_model_name": "HTMLModel",
            "_view_count": null,
            "_view_module": "@jupyter-widgets/controls",
            "_view_module_version": "1.5.0",
            "_view_name": "HTMLView",
            "description": "",
            "description_tooltip": null,
            "layout": "IPY_MODEL_66c2d316080b41b1a818e0d891da0a8c",
            "placeholder": "​",
            "style": "IPY_MODEL_09170b3dfbba4a62a8586619948650a2",
            "value": " 2247/2247 [00:00&lt;00:00, 3828.15 examples/s]"
          }
        },
        "940e16d6f6c743f4898d60c83b6ce56f": {
          "model_module": "@jupyter-widgets/base",
          "model_name": "LayoutModel",
          "model_module_version": "1.2.0",
          "state": {
            "_model_module": "@jupyter-widgets/base",
            "_model_module_version": "1.2.0",
            "_model_name": "LayoutModel",
            "_view_count": null,
            "_view_module": "@jupyter-widgets/base",
            "_view_module_version": "1.2.0",
            "_view_name": "LayoutView",
            "align_content": null,
            "align_items": null,
            "align_self": null,
            "border": null,
            "bottom": null,
            "display": null,
            "flex": null,
            "flex_flow": null,
            "grid_area": null,
            "grid_auto_columns": null,
            "grid_auto_flow": null,
            "grid_auto_rows": null,
            "grid_column": null,
            "grid_gap": null,
            "grid_row": null,
            "grid_template_areas": null,
            "grid_template_columns": null,
            "grid_template_rows": null,
            "height": null,
            "justify_content": null,
            "justify_items": null,
            "left": null,
            "margin": null,
            "max_height": null,
            "max_width": null,
            "min_height": null,
            "min_width": null,
            "object_fit": null,
            "object_position": null,
            "order": null,
            "overflow": null,
            "overflow_x": null,
            "overflow_y": null,
            "padding": null,
            "right": null,
            "top": null,
            "visibility": null,
            "width": null
          }
        },
        "4c6fec0f23c24fd284f68a1987bc667c": {
          "model_module": "@jupyter-widgets/base",
          "model_name": "LayoutModel",
          "model_module_version": "1.2.0",
          "state": {
            "_model_module": "@jupyter-widgets/base",
            "_model_module_version": "1.2.0",
            "_model_name": "LayoutModel",
            "_view_count": null,
            "_view_module": "@jupyter-widgets/base",
            "_view_module_version": "1.2.0",
            "_view_name": "LayoutView",
            "align_content": null,
            "align_items": null,
            "align_self": null,
            "border": null,
            "bottom": null,
            "display": null,
            "flex": null,
            "flex_flow": null,
            "grid_area": null,
            "grid_auto_columns": null,
            "grid_auto_flow": null,
            "grid_auto_rows": null,
            "grid_column": null,
            "grid_gap": null,
            "grid_row": null,
            "grid_template_areas": null,
            "grid_template_columns": null,
            "grid_template_rows": null,
            "height": null,
            "justify_content": null,
            "justify_items": null,
            "left": null,
            "margin": null,
            "max_height": null,
            "max_width": null,
            "min_height": null,
            "min_width": null,
            "object_fit": null,
            "object_position": null,
            "order": null,
            "overflow": null,
            "overflow_x": null,
            "overflow_y": null,
            "padding": null,
            "right": null,
            "top": null,
            "visibility": null,
            "width": null
          }
        },
        "565f56f16197423592e2a2e2e3b6c3d9": {
          "model_module": "@jupyter-widgets/controls",
          "model_name": "DescriptionStyleModel",
          "model_module_version": "1.5.0",
          "state": {
            "_model_module": "@jupyter-widgets/controls",
            "_model_module_version": "1.5.0",
            "_model_name": "DescriptionStyleModel",
            "_view_count": null,
            "_view_module": "@jupyter-widgets/base",
            "_view_module_version": "1.2.0",
            "_view_name": "StyleView",
            "description_width": ""
          }
        },
        "0a610913d2ce465dae321cd01e7e97b3": {
          "model_module": "@jupyter-widgets/base",
          "model_name": "LayoutModel",
          "model_module_version": "1.2.0",
          "state": {
            "_model_module": "@jupyter-widgets/base",
            "_model_module_version": "1.2.0",
            "_model_name": "LayoutModel",
            "_view_count": null,
            "_view_module": "@jupyter-widgets/base",
            "_view_module_version": "1.2.0",
            "_view_name": "LayoutView",
            "align_content": null,
            "align_items": null,
            "align_self": null,
            "border": null,
            "bottom": null,
            "display": null,
            "flex": null,
            "flex_flow": null,
            "grid_area": null,
            "grid_auto_columns": null,
            "grid_auto_flow": null,
            "grid_auto_rows": null,
            "grid_column": null,
            "grid_gap": null,
            "grid_row": null,
            "grid_template_areas": null,
            "grid_template_columns": null,
            "grid_template_rows": null,
            "height": null,
            "justify_content": null,
            "justify_items": null,
            "left": null,
            "margin": null,
            "max_height": null,
            "max_width": null,
            "min_height": null,
            "min_width": null,
            "object_fit": null,
            "object_position": null,
            "order": null,
            "overflow": null,
            "overflow_x": null,
            "overflow_y": null,
            "padding": null,
            "right": null,
            "top": null,
            "visibility": null,
            "width": null
          }
        },
        "aa3c00b0827444daaf1cfccc17720c62": {
          "model_module": "@jupyter-widgets/controls",
          "model_name": "ProgressStyleModel",
          "model_module_version": "1.5.0",
          "state": {
            "_model_module": "@jupyter-widgets/controls",
            "_model_module_version": "1.5.0",
            "_model_name": "ProgressStyleModel",
            "_view_count": null,
            "_view_module": "@jupyter-widgets/base",
            "_view_module_version": "1.2.0",
            "_view_name": "StyleView",
            "bar_color": null,
            "description_width": ""
          }
        },
        "66c2d316080b41b1a818e0d891da0a8c": {
          "model_module": "@jupyter-widgets/base",
          "model_name": "LayoutModel",
          "model_module_version": "1.2.0",
          "state": {
            "_model_module": "@jupyter-widgets/base",
            "_model_module_version": "1.2.0",
            "_model_name": "LayoutModel",
            "_view_count": null,
            "_view_module": "@jupyter-widgets/base",
            "_view_module_version": "1.2.0",
            "_view_name": "LayoutView",
            "align_content": null,
            "align_items": null,
            "align_self": null,
            "border": null,
            "bottom": null,
            "display": null,
            "flex": null,
            "flex_flow": null,
            "grid_area": null,
            "grid_auto_columns": null,
            "grid_auto_flow": null,
            "grid_auto_rows": null,
            "grid_column": null,
            "grid_gap": null,
            "grid_row": null,
            "grid_template_areas": null,
            "grid_template_columns": null,
            "grid_template_rows": null,
            "height": null,
            "justify_content": null,
            "justify_items": null,
            "left": null,
            "margin": null,
            "max_height": null,
            "max_width": null,
            "min_height": null,
            "min_width": null,
            "object_fit": null,
            "object_position": null,
            "order": null,
            "overflow": null,
            "overflow_x": null,
            "overflow_y": null,
            "padding": null,
            "right": null,
            "top": null,
            "visibility": null,
            "width": null
          }
        },
        "09170b3dfbba4a62a8586619948650a2": {
          "model_module": "@jupyter-widgets/controls",
          "model_name": "DescriptionStyleModel",
          "model_module_version": "1.5.0",
          "state": {
            "_model_module": "@jupyter-widgets/controls",
            "_model_module_version": "1.5.0",
            "_model_name": "DescriptionStyleModel",
            "_view_count": null,
            "_view_module": "@jupyter-widgets/base",
            "_view_module_version": "1.2.0",
            "_view_name": "StyleView",
            "description_width": ""
          }
        },
        "eb601e36a89f4606bc8ffb8ff2c13eca": {
          "model_module": "@jupyter-widgets/controls",
          "model_name": "HBoxModel",
          "model_module_version": "1.5.0",
          "state": {
            "_dom_classes": [],
            "_model_module": "@jupyter-widgets/controls",
            "_model_module_version": "1.5.0",
            "_model_name": "HBoxModel",
            "_view_count": null,
            "_view_module": "@jupyter-widgets/controls",
            "_view_module_version": "1.5.0",
            "_view_name": "HBoxView",
            "box_style": "",
            "children": [
              "IPY_MODEL_ad03f08dd9e44d61b4fa05fdd9e692a5",
              "IPY_MODEL_5d587e0b27b74669a34dba0ad3f7512a",
              "IPY_MODEL_9c0e8bdda2884eebae8720121a3bc12b"
            ],
            "layout": "IPY_MODEL_188b6d20226648b18519404f50f55fd9"
          }
        },
        "ad03f08dd9e44d61b4fa05fdd9e692a5": {
          "model_module": "@jupyter-widgets/controls",
          "model_name": "HTMLModel",
          "model_module_version": "1.5.0",
          "state": {
            "_dom_classes": [],
            "_model_module": "@jupyter-widgets/controls",
            "_model_module_version": "1.5.0",
            "_model_name": "HTMLModel",
            "_view_count": null,
            "_view_module": "@jupyter-widgets/controls",
            "_view_module_version": "1.5.0",
            "_view_name": "HTMLView",
            "description": "",
            "description_tooltip": null,
            "layout": "IPY_MODEL_cb67d4f98fcb4afbb26692908c4cee1e",
            "placeholder": "​",
            "style": "IPY_MODEL_2c2695fe6da4457d923ae3952d0df0e8",
            "value": "Map: 100%"
          }
        },
        "5d587e0b27b74669a34dba0ad3f7512a": {
          "model_module": "@jupyter-widgets/controls",
          "model_name": "FloatProgressModel",
          "model_module_version": "1.5.0",
          "state": {
            "_dom_classes": [],
            "_model_module": "@jupyter-widgets/controls",
            "_model_module_version": "1.5.0",
            "_model_name": "FloatProgressModel",
            "_view_count": null,
            "_view_module": "@jupyter-widgets/controls",
            "_view_module_version": "1.5.0",
            "_view_name": "ProgressView",
            "bar_style": "success",
            "description": "",
            "description_tooltip": null,
            "layout": "IPY_MODEL_66ffaca0ae014b6dafaeaf8cee94086a",
            "max": 250,
            "min": 0,
            "orientation": "horizontal",
            "style": "IPY_MODEL_050f772d2129412fbdc4c5b873d6a62f",
            "value": 250
          }
        },
        "9c0e8bdda2884eebae8720121a3bc12b": {
          "model_module": "@jupyter-widgets/controls",
          "model_name": "HTMLModel",
          "model_module_version": "1.5.0",
          "state": {
            "_dom_classes": [],
            "_model_module": "@jupyter-widgets/controls",
            "_model_module_version": "1.5.0",
            "_model_name": "HTMLModel",
            "_view_count": null,
            "_view_module": "@jupyter-widgets/controls",
            "_view_module_version": "1.5.0",
            "_view_name": "HTMLView",
            "description": "",
            "description_tooltip": null,
            "layout": "IPY_MODEL_5f5c445addcb417ca9afd4714f539f3e",
            "placeholder": "​",
            "style": "IPY_MODEL_d3dd7275a16f46d6aa14edf66905c544",
            "value": " 250/250 [00:00&lt;00:00, 2001.38 examples/s]"
          }
        },
        "188b6d20226648b18519404f50f55fd9": {
          "model_module": "@jupyter-widgets/base",
          "model_name": "LayoutModel",
          "model_module_version": "1.2.0",
          "state": {
            "_model_module": "@jupyter-widgets/base",
            "_model_module_version": "1.2.0",
            "_model_name": "LayoutModel",
            "_view_count": null,
            "_view_module": "@jupyter-widgets/base",
            "_view_module_version": "1.2.0",
            "_view_name": "LayoutView",
            "align_content": null,
            "align_items": null,
            "align_self": null,
            "border": null,
            "bottom": null,
            "display": null,
            "flex": null,
            "flex_flow": null,
            "grid_area": null,
            "grid_auto_columns": null,
            "grid_auto_flow": null,
            "grid_auto_rows": null,
            "grid_column": null,
            "grid_gap": null,
            "grid_row": null,
            "grid_template_areas": null,
            "grid_template_columns": null,
            "grid_template_rows": null,
            "height": null,
            "justify_content": null,
            "justify_items": null,
            "left": null,
            "margin": null,
            "max_height": null,
            "max_width": null,
            "min_height": null,
            "min_width": null,
            "object_fit": null,
            "object_position": null,
            "order": null,
            "overflow": null,
            "overflow_x": null,
            "overflow_y": null,
            "padding": null,
            "right": null,
            "top": null,
            "visibility": null,
            "width": null
          }
        },
        "cb67d4f98fcb4afbb26692908c4cee1e": {
          "model_module": "@jupyter-widgets/base",
          "model_name": "LayoutModel",
          "model_module_version": "1.2.0",
          "state": {
            "_model_module": "@jupyter-widgets/base",
            "_model_module_version": "1.2.0",
            "_model_name": "LayoutModel",
            "_view_count": null,
            "_view_module": "@jupyter-widgets/base",
            "_view_module_version": "1.2.0",
            "_view_name": "LayoutView",
            "align_content": null,
            "align_items": null,
            "align_self": null,
            "border": null,
            "bottom": null,
            "display": null,
            "flex": null,
            "flex_flow": null,
            "grid_area": null,
            "grid_auto_columns": null,
            "grid_auto_flow": null,
            "grid_auto_rows": null,
            "grid_column": null,
            "grid_gap": null,
            "grid_row": null,
            "grid_template_areas": null,
            "grid_template_columns": null,
            "grid_template_rows": null,
            "height": null,
            "justify_content": null,
            "justify_items": null,
            "left": null,
            "margin": null,
            "max_height": null,
            "max_width": null,
            "min_height": null,
            "min_width": null,
            "object_fit": null,
            "object_position": null,
            "order": null,
            "overflow": null,
            "overflow_x": null,
            "overflow_y": null,
            "padding": null,
            "right": null,
            "top": null,
            "visibility": null,
            "width": null
          }
        },
        "2c2695fe6da4457d923ae3952d0df0e8": {
          "model_module": "@jupyter-widgets/controls",
          "model_name": "DescriptionStyleModel",
          "model_module_version": "1.5.0",
          "state": {
            "_model_module": "@jupyter-widgets/controls",
            "_model_module_version": "1.5.0",
            "_model_name": "DescriptionStyleModel",
            "_view_count": null,
            "_view_module": "@jupyter-widgets/base",
            "_view_module_version": "1.2.0",
            "_view_name": "StyleView",
            "description_width": ""
          }
        },
        "66ffaca0ae014b6dafaeaf8cee94086a": {
          "model_module": "@jupyter-widgets/base",
          "model_name": "LayoutModel",
          "model_module_version": "1.2.0",
          "state": {
            "_model_module": "@jupyter-widgets/base",
            "_model_module_version": "1.2.0",
            "_model_name": "LayoutModel",
            "_view_count": null,
            "_view_module": "@jupyter-widgets/base",
            "_view_module_version": "1.2.0",
            "_view_name": "LayoutView",
            "align_content": null,
            "align_items": null,
            "align_self": null,
            "border": null,
            "bottom": null,
            "display": null,
            "flex": null,
            "flex_flow": null,
            "grid_area": null,
            "grid_auto_columns": null,
            "grid_auto_flow": null,
            "grid_auto_rows": null,
            "grid_column": null,
            "grid_gap": null,
            "grid_row": null,
            "grid_template_areas": null,
            "grid_template_columns": null,
            "grid_template_rows": null,
            "height": null,
            "justify_content": null,
            "justify_items": null,
            "left": null,
            "margin": null,
            "max_height": null,
            "max_width": null,
            "min_height": null,
            "min_width": null,
            "object_fit": null,
            "object_position": null,
            "order": null,
            "overflow": null,
            "overflow_x": null,
            "overflow_y": null,
            "padding": null,
            "right": null,
            "top": null,
            "visibility": null,
            "width": null
          }
        },
        "050f772d2129412fbdc4c5b873d6a62f": {
          "model_module": "@jupyter-widgets/controls",
          "model_name": "ProgressStyleModel",
          "model_module_version": "1.5.0",
          "state": {
            "_model_module": "@jupyter-widgets/controls",
            "_model_module_version": "1.5.0",
            "_model_name": "ProgressStyleModel",
            "_view_count": null,
            "_view_module": "@jupyter-widgets/base",
            "_view_module_version": "1.2.0",
            "_view_name": "StyleView",
            "bar_color": null,
            "description_width": ""
          }
        },
        "5f5c445addcb417ca9afd4714f539f3e": {
          "model_module": "@jupyter-widgets/base",
          "model_name": "LayoutModel",
          "model_module_version": "1.2.0",
          "state": {
            "_model_module": "@jupyter-widgets/base",
            "_model_module_version": "1.2.0",
            "_model_name": "LayoutModel",
            "_view_count": null,
            "_view_module": "@jupyter-widgets/base",
            "_view_module_version": "1.2.0",
            "_view_name": "LayoutView",
            "align_content": null,
            "align_items": null,
            "align_self": null,
            "border": null,
            "bottom": null,
            "display": null,
            "flex": null,
            "flex_flow": null,
            "grid_area": null,
            "grid_auto_columns": null,
            "grid_auto_flow": null,
            "grid_auto_rows": null,
            "grid_column": null,
            "grid_gap": null,
            "grid_row": null,
            "grid_template_areas": null,
            "grid_template_columns": null,
            "grid_template_rows": null,
            "height": null,
            "justify_content": null,
            "justify_items": null,
            "left": null,
            "margin": null,
            "max_height": null,
            "max_width": null,
            "min_height": null,
            "min_width": null,
            "object_fit": null,
            "object_position": null,
            "order": null,
            "overflow": null,
            "overflow_x": null,
            "overflow_y": null,
            "padding": null,
            "right": null,
            "top": null,
            "visibility": null,
            "width": null
          }
        },
        "d3dd7275a16f46d6aa14edf66905c544": {
          "model_module": "@jupyter-widgets/controls",
          "model_name": "DescriptionStyleModel",
          "model_module_version": "1.5.0",
          "state": {
            "_model_module": "@jupyter-widgets/controls",
            "_model_module_version": "1.5.0",
            "_model_name": "DescriptionStyleModel",
            "_view_count": null,
            "_view_module": "@jupyter-widgets/base",
            "_view_module_version": "1.2.0",
            "_view_name": "StyleView",
            "description_width": ""
          }
        }
      }
    },
    "accelerator": "GPU"
  },
  "cells": [
    {
      "cell_type": "markdown",
      "metadata": {
        "id": "view-in-github",
        "colab_type": "text"
      },
      "source": [
        "<a href=\"https://colab.research.google.com/github/itsmuditt/Bert_Finetuning/blob/main/Bert_Finetuning_2.ipynb\" target=\"_parent\"><img src=\"https://colab.research.google.com/assets/colab-badge.svg\" alt=\"Open In Colab\"/></a>"
      ]
    },
    {
      "cell_type": "markdown",
      "source": [
        "## Dataset download and split\n",
        "---"
      ],
      "metadata": {
        "id": "Te-Ghtp24fjA"
      }
    },
    {
      "cell_type": "code",
      "source": [
        "from google.colab import drive\n",
        "drive.mount('/content/drive')"
      ],
      "metadata": {
        "colab": {
          "base_uri": "https://localhost:8080/"
        },
        "id": "QVkpISZf-9KU",
        "outputId": "0e4ed372-265b-4c5f-beef-0135adc816d7"
      },
      "execution_count": null,
      "outputs": [
        {
          "output_type": "stream",
          "name": "stdout",
          "text": [
            "Mounted at /content/drive\n"
          ]
        }
      ]
    },
    {
      "cell_type": "code",
      "execution_count": null,
      "metadata": {
        "id": "X0UDPkrqQykd",
        "colab": {
          "base_uri": "https://localhost:8080/"
        },
        "outputId": "ce134fd8-741b-4e55-f57e-0925948a1792"
      },
      "outputs": [
        {
          "output_type": "stream",
          "name": "stdout",
          "text": [
            "\u001b[2K     \u001b[90m━━━━━━━━━━━━━━━━━━━━━━━━━━━━━━━━━━━━━━━━\u001b[0m \u001b[32m521.2/521.2 kB\u001b[0m \u001b[31m5.5 MB/s\u001b[0m eta \u001b[36m0:00:00\u001b[0m\n",
            "\u001b[2K     \u001b[90m━━━━━━━━━━━━━━━━━━━━━━━━━━━━━━━━━━━━━━━━\u001b[0m \u001b[32m115.3/115.3 kB\u001b[0m \u001b[31m9.7 MB/s\u001b[0m eta \u001b[36m0:00:00\u001b[0m\n",
            "\u001b[2K     \u001b[90m━━━━━━━━━━━━━━━━━━━━━━━━━━━━━━━━━━━━━━━━\u001b[0m \u001b[32m134.8/134.8 kB\u001b[0m \u001b[31m5.5 MB/s\u001b[0m eta \u001b[36m0:00:00\u001b[0m\n",
            "\u001b[?25h"
          ]
        }
      ],
      "source": [
        "!pip install datasets --quiet"
      ]
    },
    {
      "cell_type": "code",
      "source": [
        "from datasets import load_from_disk\n",
        "\n",
        "# Define paths to the train and test dataset folders within your Google Drive\n",
        "train_dataset_path = '/content/drive/MyDrive/DLNLP_Project/Datasets/train'\n",
        "test_dataset_path = '/content/drive/MyDrive/DLNLP_Project/Datasets/test'\n",
        "\n",
        "# Load the train and test datasets separately using load_from_disk\n",
        "train_dataset = load_from_disk(train_dataset_path)\n",
        "test_dataset = load_from_disk(test_dataset_path)"
      ],
      "metadata": {
        "id": "o-qaW_02Q1gn"
      },
      "execution_count": null,
      "outputs": []
    },
    {
      "cell_type": "code",
      "source": [
        "train_dataset"
      ],
      "metadata": {
        "colab": {
          "base_uri": "https://localhost:8080/"
        },
        "id": "ncbD_jvSRkwd",
        "outputId": "33852470-18db-4884-d7e5-ecbf5e461db1"
      },
      "execution_count": null,
      "outputs": [
        {
          "output_type": "execute_result",
          "data": {
            "text/plain": [
              "Dataset({\n",
              "    features: ['text', 'label', '__index_level_0__'],\n",
              "    num_rows: 2247\n",
              "})"
            ]
          },
          "metadata": {},
          "execution_count": 20
        }
      ]
    },
    {
      "cell_type": "markdown",
      "source": [
        "---"
      ],
      "metadata": {
        "id": "t7cKoSQU4rQv"
      }
    },
    {
      "cell_type": "code",
      "source": [
        "from datasets import DatasetDict, Dataset\n",
        "import pandas as pd"
      ],
      "metadata": {
        "id": "AEl8q2YWcV7W"
      },
      "execution_count": null,
      "outputs": []
    },
    {
      "cell_type": "code",
      "source": [
        "# Extract 'text' and 'label' columns from the train and test datasets\n",
        "train_data = {'text': train_dataset['text'], 'label': train_dataset['label']}\n",
        "test_data = {'text': test_dataset['text'], 'label': test_dataset['label']}"
      ],
      "metadata": {
        "id": "_vMPtqRY5M_4"
      },
      "execution_count": null,
      "outputs": []
    },
    {
      "cell_type": "code",
      "source": [
        "# Convert dictionaries to DataFrames\n",
        "train_df = pd.DataFrame(train_data)\n",
        "test_df = pd.DataFrame(test_data)"
      ],
      "metadata": {
        "id": "1GU2wS7u6CIX"
      },
      "execution_count": null,
      "outputs": []
    },
    {
      "cell_type": "code",
      "source": [
        "# Convert back to Hugging Face Dataset format\n",
        "train = Dataset.from_pandas(train_df)\n",
        "test = Dataset.from_pandas(test_df)\n",
        "\n",
        "# Creating DatasetDict with train, validation, and test subsets\n",
        "split_dataset = DatasetDict({\n",
        "    \"train\": train,\n",
        "    \"test\": test\n",
        "})"
      ],
      "metadata": {
        "id": "dWq-48pDdqwd"
      },
      "execution_count": null,
      "outputs": []
    },
    {
      "cell_type": "code",
      "source": [
        "len(split_dataset['train'])"
      ],
      "metadata": {
        "colab": {
          "base_uri": "https://localhost:8080/"
        },
        "id": "KwSDN_7YeAo9",
        "outputId": "0eb261d8-4b8a-41a6-ac21-5d54a173eebe"
      },
      "execution_count": null,
      "outputs": [
        {
          "output_type": "execute_result",
          "data": {
            "text/plain": [
              "2247"
            ]
          },
          "metadata": {},
          "execution_count": 29
        }
      ]
    },
    {
      "cell_type": "markdown",
      "source": [
        "---"
      ],
      "metadata": {
        "id": "aBucb__s4n_R"
      }
    },
    {
      "cell_type": "markdown",
      "source": [
        "## Tokenizing the Datasets and segregating them (input_ids & labels)"
      ],
      "metadata": {
        "id": "c_CHPx8-3vb6"
      }
    },
    {
      "cell_type": "code",
      "source": [
        "import tensorflow as tf\n",
        "from transformers import AutoTokenizer, TFAutoModelForSequenceClassification, TFTrainer, TFTrainingArguments\n",
        "from transformers.training_args_tf import TFTrainingArguments"
      ],
      "metadata": {
        "id": "AmJ5VFBIXgOl"
      },
      "execution_count": null,
      "outputs": []
    },
    {
      "cell_type": "code",
      "source": [
        "tokenizer = AutoTokenizer.from_pretrained(\"google/muril-base-cased\")\n",
        "model = TFAutoModelForSequenceClassification.from_pretrained(\"google/muril-base-cased\", num_labels=3)"
      ],
      "metadata": {
        "id": "EuscYEJaSL-M",
        "colab": {
          "base_uri": "https://localhost:8080/",
          "height": 214,
          "referenced_widgets": [
            "3d1e2feb9e814a368bf26b20ca875ab6",
            "014001c5294346b29743781434dc8da2",
            "af2dcc7580914e8898a957d87a4aff75",
            "7d2b8d64e8c64a99b73cba112686db05",
            "1fe169899b69442c9f3bd8049d41e3dd",
            "466e2b0ddbf54a9db29baafa080e09f5",
            "24064d1e99174d5fb6b2c6e790a0e1c2",
            "d24e548a9474458fac9d1d0aac410a12",
            "6f121bffd16840ab8c60fb25e6b3d9b1",
            "05c08c9368fb4a048dd6368e0e9c1b07",
            "f6fd52cb7c254418a7045a519119b59d",
            "5b7a755d418e449d9a501405edc7cbdf",
            "fd91872e7dd84e4ba40c673d68ea69af",
            "71c2a244f4f24ab18d2fbcea5ff04642",
            "fd9d827cd30240179746ddadd8abc78c",
            "4a9a407eb5ff4be7b50b1083b1462d4b",
            "c139b030d2e64c6485d11805c691c6e6",
            "a01468f8779e4383b7cb8cacd07180c2",
            "56c9cfd391c94948b9678870a1e5a1e7",
            "254ee2984dfa430da9a5643d0730c00c",
            "468dee293c5f4ee686f818b11465117c",
            "dada2daae8e441638cf36295ee6e9799",
            "fed8a305828e41f092a5605f9d20ff9b",
            "f39470a596ab48dbb01f05a0fe154520",
            "33c35834c66d4dcda2b2d8ef533e8ef7",
            "e40a6ceb55f34830abaa4aaaa250017d",
            "2cef24a980e14777b3bdf8012dd86686",
            "a05012e541794b7f86e3cf8b56ca6e18",
            "44fa723c4cd6438493352b9fc61cef80",
            "15ae4f5ad5e941208e210c6327b47a92",
            "a596906f430449c2bd02fbdd504bc383",
            "749460a4cb034619b52c60e4cb2c9614",
            "70be6cff0699443d8239553911eb540f",
            "9580c15fbf4344b7a2394b4382f2338a",
            "6365131c659840f09da2d105066e7eb2",
            "ce36a4ca3f1446618dcb18ab22f36157",
            "d92439aea18e456888ec5734a2a9f3a3",
            "071aac80cae049aca3f1ee8db23ff1f8",
            "6832a882a2fb474197966fcffc39a832",
            "5947bd1538dd4b3aac3dbcfdbf7c9cf2",
            "dcb26a5739c54c198b2a17884901940c",
            "01cdb771dfa74dc19719210d4e35c548",
            "8b1aa19a4d784358a1a0d8805d03ee60",
            "eb557b79ad224bf8b7dd9260167788a2"
          ]
        },
        "outputId": "61e18e71-cabd-450a-e2ad-d2daefd6f20b"
      },
      "execution_count": null,
      "outputs": [
        {
          "output_type": "display_data",
          "data": {
            "text/plain": [
              "config.json:   0%|          | 0.00/411 [00:00<?, ?B/s]"
            ],
            "application/vnd.jupyter.widget-view+json": {
              "version_major": 2,
              "version_minor": 0,
              "model_id": "3d1e2feb9e814a368bf26b20ca875ab6"
            }
          },
          "metadata": {}
        },
        {
          "output_type": "display_data",
          "data": {
            "text/plain": [
              "vocab.txt:   0%|          | 0.00/3.16M [00:00<?, ?B/s]"
            ],
            "application/vnd.jupyter.widget-view+json": {
              "version_major": 2,
              "version_minor": 0,
              "model_id": "5b7a755d418e449d9a501405edc7cbdf"
            }
          },
          "metadata": {}
        },
        {
          "output_type": "display_data",
          "data": {
            "text/plain": [
              "special_tokens_map.json:   0%|          | 0.00/113 [00:00<?, ?B/s]"
            ],
            "application/vnd.jupyter.widget-view+json": {
              "version_major": 2,
              "version_minor": 0,
              "model_id": "fed8a305828e41f092a5605f9d20ff9b"
            }
          },
          "metadata": {}
        },
        {
          "output_type": "display_data",
          "data": {
            "text/plain": [
              "tf_model.h5:   0%|          | 0.00/1.56G [00:00<?, ?B/s]"
            ],
            "application/vnd.jupyter.widget-view+json": {
              "version_major": 2,
              "version_minor": 0,
              "model_id": "9580c15fbf4344b7a2394b4382f2338a"
            }
          },
          "metadata": {}
        },
        {
          "output_type": "stream",
          "name": "stderr",
          "text": [
            "All model checkpoint layers were used when initializing TFBertForSequenceClassification.\n",
            "\n",
            "Some layers of TFBertForSequenceClassification were not initialized from the model checkpoint at google/muril-base-cased and are newly initialized: ['classifier', 'bert/pooler/dense/bias:0', 'bert/pooler/dense/kernel:0']\n",
            "You should probably TRAIN this model on a down-stream task to be able to use it for predictions and inference.\n"
          ]
        }
      ]
    },
    {
      "cell_type": "code",
      "source": [
        "# Tokenize the dataset with padding for a max_length of 128\n",
        "def tokenize(batch):\n",
        "    return tokenizer(batch[\"text\"], padding=\"max_length\", truncation=True, max_length=128)"
      ],
      "metadata": {
        "id": "m_oY1Jw0X8pT"
      },
      "execution_count": null,
      "outputs": []
    },
    {
      "cell_type": "code",
      "source": [
        "tokenized_dataset = split_dataset.map(tokenize, batched=True)"
      ],
      "metadata": {
        "id": "nFU-Eg1nYADd",
        "colab": {
          "base_uri": "https://localhost:8080/",
          "height": 81,
          "referenced_widgets": [
            "303271520d304ef0a5cc841f4958d458",
            "6bb7d3a5332044a9b1d58ca182b323ae",
            "205a4ba95ea84f6db35c31cb458ceda3",
            "54fe0ad779294aad956404cd69cae5b2",
            "940e16d6f6c743f4898d60c83b6ce56f",
            "4c6fec0f23c24fd284f68a1987bc667c",
            "565f56f16197423592e2a2e2e3b6c3d9",
            "0a610913d2ce465dae321cd01e7e97b3",
            "aa3c00b0827444daaf1cfccc17720c62",
            "66c2d316080b41b1a818e0d891da0a8c",
            "09170b3dfbba4a62a8586619948650a2",
            "eb601e36a89f4606bc8ffb8ff2c13eca",
            "ad03f08dd9e44d61b4fa05fdd9e692a5",
            "5d587e0b27b74669a34dba0ad3f7512a",
            "9c0e8bdda2884eebae8720121a3bc12b",
            "188b6d20226648b18519404f50f55fd9",
            "cb67d4f98fcb4afbb26692908c4cee1e",
            "2c2695fe6da4457d923ae3952d0df0e8",
            "66ffaca0ae014b6dafaeaf8cee94086a",
            "050f772d2129412fbdc4c5b873d6a62f",
            "5f5c445addcb417ca9afd4714f539f3e",
            "d3dd7275a16f46d6aa14edf66905c544"
          ]
        },
        "outputId": "93bacd5d-0d57-4fca-9372-02d0eb1e9204"
      },
      "execution_count": null,
      "outputs": [
        {
          "output_type": "display_data",
          "data": {
            "text/plain": [
              "Map:   0%|          | 0/2247 [00:00<?, ? examples/s]"
            ],
            "application/vnd.jupyter.widget-view+json": {
              "version_major": 2,
              "version_minor": 0,
              "model_id": "303271520d304ef0a5cc841f4958d458"
            }
          },
          "metadata": {}
        },
        {
          "output_type": "display_data",
          "data": {
            "text/plain": [
              "Map:   0%|          | 0/250 [00:00<?, ? examples/s]"
            ],
            "application/vnd.jupyter.widget-view+json": {
              "version_major": 2,
              "version_minor": 0,
              "model_id": "eb601e36a89f4606bc8ffb8ff2c13eca"
            }
          },
          "metadata": {}
        }
      ]
    },
    {
      "cell_type": "code",
      "source": [
        "tokenized_dataset"
      ],
      "metadata": {
        "id": "6N9Pzubj326u",
        "colab": {
          "base_uri": "https://localhost:8080/"
        },
        "outputId": "1917ec1b-bad6-450d-dd25-45b269f902fe"
      },
      "execution_count": null,
      "outputs": [
        {
          "output_type": "execute_result",
          "data": {
            "text/plain": [
              "DatasetDict({\n",
              "    train: Dataset({\n",
              "        features: ['text', 'label', '__index_level_0__', 'input_ids', 'token_type_ids', 'attention_mask'],\n",
              "        num_rows: 2247\n",
              "    })\n",
              "    test: Dataset({\n",
              "        features: ['text', 'label', '__index_level_0__', 'input_ids', 'token_type_ids', 'attention_mask'],\n",
              "        num_rows: 250\n",
              "    })\n",
              "})"
            ]
          },
          "metadata": {},
          "execution_count": 16
        }
      ]
    },
    {
      "cell_type": "code",
      "source": [
        "train_dataset = tokenized_dataset[\"train\"]\n",
        "test_dataset = tokenized_dataset[\"test\"]"
      ],
      "metadata": {
        "id": "VzcPhWA8g17D"
      },
      "execution_count": null,
      "outputs": []
    },
    {
      "cell_type": "code",
      "source": [
        "import numpy as np"
      ],
      "metadata": {
        "id": "1umgkWgxhajV"
      },
      "execution_count": null,
      "outputs": []
    },
    {
      "cell_type": "markdown",
      "source": [
        "---"
      ],
      "metadata": {
        "id": "WxABMxy437ww"
      }
    },
    {
      "cell_type": "code",
      "source": [
        "label_map = {'pos': 0, 'neu': 1, 'neg': 2}\n",
        "\n",
        "# Map string labels to integers\n",
        "train_labels = np.array([label_map[label] for label in train_dataset['label']])\n",
        "test_labels = np.array([label_map[label] for label in test_dataset['label']])"
      ],
      "metadata": {
        "id": "rx7jsxzrh9DU"
      },
      "execution_count": null,
      "outputs": []
    },
    {
      "cell_type": "code",
      "source": [
        "train_inputs = np.array(train_dataset['input_ids'])\n",
        "test_inputs = np.array(test_dataset['input_ids'])"
      ],
      "metadata": {
        "id": "7J9vBU9piLkb"
      },
      "execution_count": null,
      "outputs": []
    },
    {
      "cell_type": "markdown",
      "source": [
        "---"
      ],
      "metadata": {
        "id": "13aQ8yFC3_pL"
      }
    },
    {
      "cell_type": "code",
      "source": [
        "print(type(train_inputs))\n",
        "print(train_inputs.shape if isinstance(train_inputs, np.ndarray) else \"Not a NumPy array\")\n",
        "print(type(train_labels))\n",
        "print(train_labels.shape if isinstance(train_labels, np.ndarray) else \"Not a NumPy array\")\n"
      ],
      "metadata": {
        "id": "2pjEWa_Oihml",
        "colab": {
          "base_uri": "https://localhost:8080/"
        },
        "outputId": "ad5d8bf8-8385-4453-ab53-486ffd6dd4d9"
      },
      "execution_count": null,
      "outputs": [
        {
          "output_type": "stream",
          "name": "stdout",
          "text": [
            "<class 'numpy.ndarray'>\n",
            "(2247, 128)\n",
            "<class 'numpy.ndarray'>\n",
            "(2247,)\n"
          ]
        }
      ]
    },
    {
      "cell_type": "code",
      "source": [
        "print(type(test_inputs))\n",
        "print(test_inputs.shape if isinstance(test_inputs, np.ndarray) else \"Not a NumPy array\")\n",
        "print(type(test_labels))\n",
        "print(test_labels.shape if isinstance(test_labels, np.ndarray) else \"Not a NumPy array\")"
      ],
      "metadata": {
        "id": "wjGgCwaS3ZH2",
        "colab": {
          "base_uri": "https://localhost:8080/"
        },
        "outputId": "92733913-0b88-47df-a50f-e1647261daf5"
      },
      "execution_count": null,
      "outputs": [
        {
          "output_type": "stream",
          "name": "stdout",
          "text": [
            "<class 'numpy.ndarray'>\n",
            "(250, 128)\n",
            "<class 'numpy.ndarray'>\n",
            "(250,)\n"
          ]
        }
      ]
    },
    {
      "cell_type": "markdown",
      "source": [
        "---"
      ],
      "metadata": {
        "id": "_wuJ2mZY4BmN"
      }
    },
    {
      "cell_type": "markdown",
      "source": [
        "## Defining Model Parameters and training the Model"
      ],
      "metadata": {
        "id": "kTsYtLWf4DTF"
      }
    },
    {
      "cell_type": "code",
      "source": [
        "# Define a callback to save the best model based on validation accuracy\n",
        "checkpoint = tf.keras.callbacks.ModelCheckpoint(\n",
        "    filepath='/content/drive/MyDrive/DLNLP_Project/Models/best_model',  # Specify the path to save the model\n",
        "    monitor='val_accuracy',    # Monitor validation accuracy\n",
        "    mode='max',                # Mode can be 'max' or 'min' depending on what's monitored\n",
        "    save_best_only=True,        # Save only the best model\n",
        "    save_format = 'tf'\n",
        ")"
      ],
      "metadata": {
        "id": "46KBTNj776jG"
      },
      "execution_count": null,
      "outputs": []
    },
    {
      "cell_type": "code",
      "source": [
        "model.summary()"
      ],
      "metadata": {
        "id": "-kSQz2ot5_mq",
        "colab": {
          "base_uri": "https://localhost:8080/"
        },
        "outputId": "a22b03be-89c1-4a39-9b85-b0244f4140dc"
      },
      "execution_count": null,
      "outputs": [
        {
          "output_type": "stream",
          "name": "stdout",
          "text": [
            "Model: \"tf_bert_for_sequence_classification\"\n",
            "_________________________________________________________________\n",
            " Layer (type)                Output Shape              Param #   \n",
            "=================================================================\n",
            " bert (TFBertMainLayer)      multiple                  237556224 \n",
            "                                                                 \n",
            " dropout_37 (Dropout)        multiple                  0         \n",
            "                                                                 \n",
            " classifier (Dense)          multiple                  2307      \n",
            "                                                                 \n",
            "=================================================================\n",
            "Total params: 237558531 (906.21 MB)\n",
            "Trainable params: 237558531 (906.21 MB)\n",
            "Non-trainable params: 0 (0.00 Byte)\n",
            "_________________________________________________________________\n"
          ]
        }
      ]
    },
    {
      "cell_type": "code",
      "source": [
        "# Access the encoder layers\n",
        "BERT_layers = model.layers[0]"
      ],
      "metadata": {
        "id": "pXFZhYGD6MeD"
      },
      "execution_count": null,
      "outputs": []
    },
    {
      "cell_type": "code",
      "source": [
        "# Access the encoder layers within the BERT model\n",
        "encoder_layers = BERT_layers.encoder.layer"
      ],
      "metadata": {
        "id": "tKptSsdX6Mbq"
      },
      "execution_count": null,
      "outputs": []
    },
    {
      "cell_type": "code",
      "source": [
        "len(encoder_layers)"
      ],
      "metadata": {
        "id": "HpKO1E9d6MYx",
        "colab": {
          "base_uri": "https://localhost:8080/"
        },
        "outputId": "a481a46c-4eae-404b-f7dc-a1442c279299"
      },
      "execution_count": null,
      "outputs": [
        {
          "output_type": "execute_result",
          "data": {
            "text/plain": [
              "12"
            ]
          },
          "metadata": {},
          "execution_count": 28
        }
      ]
    },
    {
      "cell_type": "code",
      "source": [
        "# Freeze the parameters of the first two and last encoder layers\n",
        "num_layers = len(encoder_layers)\n",
        "for i, layer in enumerate(encoder_layers):\n",
        "    if i < 2 or i == num_layers - 2:\n",
        "        layer.trainable = False"
      ],
      "metadata": {
        "id": "99PkUlym6MV6"
      },
      "execution_count": null,
      "outputs": []
    },
    {
      "cell_type": "code",
      "source": [
        "model.summary()"
      ],
      "metadata": {
        "id": "SXDLDU6pgwiA",
        "outputId": "2ce5a572-6de8-4821-c003-94b3cd68dd16",
        "colab": {
          "base_uri": "https://localhost:8080/"
        }
      },
      "execution_count": null,
      "outputs": [
        {
          "output_type": "stream",
          "name": "stdout",
          "text": [
            "Model: \"tf_bert_for_sequence_classification\"\n",
            "_________________________________________________________________\n",
            " Layer (type)                Output Shape              Param #   \n",
            "=================================================================\n",
            " bert (TFBertMainLayer)      multiple                  237556224 \n",
            "                                                                 \n",
            " dropout_37 (Dropout)        multiple                  0         \n",
            "                                                                 \n",
            " classifier (Dense)          multiple                  2307      \n",
            "                                                                 \n",
            "=================================================================\n",
            "Total params: 237558531 (906.21 MB)\n",
            "Trainable params: 216294915 (825.10 MB)\n",
            "Non-trainable params: 21263616 (81.11 MB)\n",
            "_________________________________________________________________\n"
          ]
        }
      ]
    },
    {
      "cell_type": "code",
      "source": [
        "# Define training parameters\n",
        "optimizer = tf.keras.optimizers.Adam(learning_rate=0.00001)\n",
        "loss = tf.keras.losses.SparseCategoricalCrossentropy(from_logits=True)\n",
        "metric = tf.keras.metrics.SparseCategoricalAccuracy('accuracy')"
      ],
      "metadata": {
        "id": "OtnJL3scVWwK"
      },
      "execution_count": null,
      "outputs": []
    },
    {
      "cell_type": "code",
      "source": [
        "# Compile the model\n",
        "model.compile(optimizer=optimizer, loss=loss, metrics=[metric], run_eagerly=True)"
      ],
      "metadata": {
        "id": "FGVnsBmmV9aZ"
      },
      "execution_count": null,
      "outputs": []
    },
    {
      "cell_type": "code",
      "source": [
        "# Define a function to train the model\n",
        "def train_model(train_inputs, train_labels):\n",
        "    model.fit(\n",
        "        train_inputs,\n",
        "        train_labels,\n",
        "        validation_split=0.2,\n",
        "        epochs=48,\n",
        "        batch_size=32,\n",
        "        shuffle=True,\n",
        "        callbacks=[checkpoint]\n",
        "    )"
      ],
      "metadata": {
        "id": "lLpwomFpf3Pn"
      },
      "execution_count": null,
      "outputs": []
    },
    {
      "cell_type": "code",
      "source": [
        "# Train the model\n",
        "train_model(train_inputs, train_labels)"
      ],
      "metadata": {
        "id": "vj6RIo6ZhdcT",
        "colab": {
          "base_uri": "https://localhost:8080/"
        },
        "outputId": "d85248f1-91fb-4561-d574-0b6faacfe795"
      },
      "execution_count": null,
      "outputs": [
        {
          "output_type": "stream",
          "name": "stdout",
          "text": [
            "Epoch 1/48\n"
          ]
        },
        {
          "output_type": "stream",
          "name": "stderr",
          "text": [
            "WARNING:tensorflow:5 out of the last 5 calls to <function _BaseOptimizer._update_step_xla at 0x79e48c63d1b0> triggered tf.function retracing. Tracing is expensive and the excessive number of tracings could be due to (1) creating @tf.function repeatedly in a loop, (2) passing tensors with different shapes, (3) passing Python objects instead of tensors. For (1), please define your @tf.function outside of the loop. For (2), @tf.function has reduce_retracing=True option that can avoid unnecessary retracing. For (3), please refer to https://www.tensorflow.org/guide/function#controlling_retracing and https://www.tensorflow.org/api_docs/python/tf/function for  more details.\n",
            "WARNING:tensorflow:6 out of the last 6 calls to <function _BaseOptimizer._update_step_xla at 0x79e48c63d1b0> triggered tf.function retracing. Tracing is expensive and the excessive number of tracings could be due to (1) creating @tf.function repeatedly in a loop, (2) passing tensors with different shapes, (3) passing Python objects instead of tensors. For (1), please define your @tf.function outside of the loop. For (2), @tf.function has reduce_retracing=True option that can avoid unnecessary retracing. For (3), please refer to https://www.tensorflow.org/guide/function#controlling_retracing and https://www.tensorflow.org/api_docs/python/tf/function for  more details.\n"
          ]
        },
        {
          "output_type": "stream",
          "name": "stdout",
          "text": [
            "57/57 [==============================] - 145s 2s/step - loss: 1.0884 - accuracy: 0.4196 - val_loss: 1.0695 - val_accuracy: 0.4889\n",
            "Epoch 2/48\n",
            "57/57 [==============================] - 93s 2s/step - loss: 1.0635 - accuracy: 0.4597 - val_loss: 1.0818 - val_accuracy: 0.4889\n",
            "Epoch 3/48\n",
            "57/57 [==============================] - 68s 1s/step - loss: 1.0795 - accuracy: 0.4585 - val_loss: 1.0723 - val_accuracy: 0.4889\n",
            "Epoch 4/48\n",
            "57/57 [==============================] - 67s 1s/step - loss: 1.0700 - accuracy: 0.4591 - val_loss: 1.0614 - val_accuracy: 0.4889\n",
            "Epoch 5/48\n",
            "57/57 [==============================] - 67s 1s/step - loss: 1.0520 - accuracy: 0.4591 - val_loss: 1.0357 - val_accuracy: 0.4889\n",
            "Epoch 6/48\n",
            "57/57 [==============================] - 66s 1s/step - loss: 1.0232 - accuracy: 0.4591 - val_loss: 0.9997 - val_accuracy: 0.4889\n",
            "Epoch 7/48\n",
            "57/57 [==============================] - 66s 1s/step - loss: 1.0083 - accuracy: 0.4591 - val_loss: 0.9929 - val_accuracy: 0.4889\n",
            "Epoch 8/48\n",
            "57/57 [==============================] - 65s 1s/step - loss: 1.0031 - accuracy: 0.4591 - val_loss: 0.9907 - val_accuracy: 0.4889\n",
            "Epoch 9/48\n",
            "57/57 [==============================] - 64s 1s/step - loss: 1.0003 - accuracy: 0.4591 - val_loss: 0.9904 - val_accuracy: 0.4889\n",
            "Epoch 10/48\n",
            "57/57 [==============================] - 64s 1s/step - loss: 1.0003 - accuracy: 0.4591 - val_loss: 0.9986 - val_accuracy: 0.4889\n",
            "Epoch 11/48\n",
            "57/57 [==============================] - 65s 1s/step - loss: 1.0014 - accuracy: 0.4591 - val_loss: 0.9905 - val_accuracy: 0.4889\n",
            "Epoch 12/48\n",
            "57/57 [==============================] - 128s 2s/step - loss: 0.9990 - accuracy: 0.4669 - val_loss: 0.9896 - val_accuracy: 0.5200\n",
            "Epoch 13/48\n",
            "57/57 [==============================] - 87s 2s/step - loss: 0.9954 - accuracy: 0.4802 - val_loss: 0.9858 - val_accuracy: 0.5200\n",
            "Epoch 14/48\n",
            "57/57 [==============================] - 66s 1s/step - loss: 0.9899 - accuracy: 0.5103 - val_loss: 0.9897 - val_accuracy: 0.5067\n",
            "Epoch 15/48\n",
            "57/57 [==============================] - 65s 1s/step - loss: 0.9861 - accuracy: 0.4958 - val_loss: 0.9920 - val_accuracy: 0.5111\n",
            "Epoch 16/48\n",
            "57/57 [==============================] - 139s 2s/step - loss: 0.9837 - accuracy: 0.5086 - val_loss: 0.9876 - val_accuracy: 0.5222\n",
            "Epoch 17/48\n",
            "57/57 [==============================] - 71s 1s/step - loss: 0.9843 - accuracy: 0.5008 - val_loss: 0.9869 - val_accuracy: 0.5089\n",
            "Epoch 18/48\n",
            "57/57 [==============================] - 66s 1s/step - loss: 0.9675 - accuracy: 0.5392 - val_loss: 0.9821 - val_accuracy: 0.5156\n",
            "Epoch 19/48\n",
            "57/57 [==============================] - 138s 2s/step - loss: 0.9354 - accuracy: 0.5832 - val_loss: 0.9741 - val_accuracy: 0.5267\n",
            "Epoch 20/48\n",
            "57/57 [==============================] - 144s 3s/step - loss: 0.9104 - accuracy: 0.6027 - val_loss: 0.9630 - val_accuracy: 0.5378\n",
            "Epoch 21/48\n",
            "57/57 [==============================] - 135s 2s/step - loss: 0.8581 - accuracy: 0.6583 - val_loss: 0.9701 - val_accuracy: 0.5444\n",
            "Epoch 22/48\n",
            "57/57 [==============================] - 72s 1s/step - loss: 0.8290 - accuracy: 0.6594 - val_loss: 1.0119 - val_accuracy: 0.5422\n",
            "Epoch 23/48\n",
            "57/57 [==============================] - 148s 3s/step - loss: 0.7783 - accuracy: 0.6917 - val_loss: 0.9403 - val_accuracy: 0.5911\n",
            "Epoch 24/48\n",
            "57/57 [==============================] - 139s 2s/step - loss: 0.7354 - accuracy: 0.7106 - val_loss: 0.9550 - val_accuracy: 0.6044\n",
            "Epoch 25/48\n",
            "57/57 [==============================] - 147s 3s/step - loss: 0.7479 - accuracy: 0.6917 - val_loss: 0.9606 - val_accuracy: 0.6067\n",
            "Epoch 26/48\n",
            "57/57 [==============================] - 146s 3s/step - loss: 0.7373 - accuracy: 0.7017 - val_loss: 0.9447 - val_accuracy: 0.6178\n",
            "Epoch 27/48\n",
            "57/57 [==============================] - 73s 1s/step - loss: 0.6952 - accuracy: 0.7485 - val_loss: 1.0300 - val_accuracy: 0.5889\n",
            "Epoch 28/48\n",
            "57/57 [==============================] - 144s 3s/step - loss: 0.6397 - accuracy: 0.7641 - val_loss: 0.9914 - val_accuracy: 0.6311\n",
            "Epoch 29/48\n",
            "57/57 [==============================] - 140s 2s/step - loss: 0.6083 - accuracy: 0.7796 - val_loss: 0.9563 - val_accuracy: 0.6444\n",
            "Epoch 30/48\n",
            "57/57 [==============================] - 71s 1s/step - loss: 0.5632 - accuracy: 0.8013 - val_loss: 0.9665 - val_accuracy: 0.6378\n",
            "Epoch 31/48\n",
            "57/57 [==============================] - 157s 3s/step - loss: 0.5366 - accuracy: 0.8175 - val_loss: 0.8930 - val_accuracy: 0.6533\n",
            "Epoch 32/48\n",
            "57/57 [==============================] - 139s 2s/step - loss: 0.5208 - accuracy: 0.8269 - val_loss: 0.9651 - val_accuracy: 0.6556\n",
            "Epoch 33/48\n",
            "57/57 [==============================] - 71s 1s/step - loss: 0.4933 - accuracy: 0.8375 - val_loss: 1.0115 - val_accuracy: 0.6511\n",
            "Epoch 34/48\n",
            "57/57 [==============================] - 153s 3s/step - loss: 0.4723 - accuracy: 0.8414 - val_loss: 0.9620 - val_accuracy: 0.6689\n",
            "Epoch 35/48\n",
            "57/57 [==============================] - 141s 2s/step - loss: 0.4194 - accuracy: 0.8726 - val_loss: 0.9167 - val_accuracy: 0.6889\n",
            "Epoch 36/48\n",
            "57/57 [==============================] - 71s 1s/step - loss: 0.4366 - accuracy: 0.8542 - val_loss: 0.9434 - val_accuracy: 0.6733\n",
            "Epoch 37/48\n",
            "57/57 [==============================] - 64s 1s/step - loss: 0.4136 - accuracy: 0.8703 - val_loss: 0.9239 - val_accuracy: 0.6867\n",
            "Epoch 38/48\n",
            "57/57 [==============================] - 68s 1s/step - loss: 0.3866 - accuracy: 0.8787 - val_loss: 0.9878 - val_accuracy: 0.6800\n",
            "Epoch 39/48\n",
            "57/57 [==============================] - 67s 1s/step - loss: 0.3917 - accuracy: 0.8659 - val_loss: 0.9573 - val_accuracy: 0.6756\n",
            "Epoch 40/48\n",
            "57/57 [==============================] - 153s 3s/step - loss: 0.3452 - accuracy: 0.8954 - val_loss: 0.9508 - val_accuracy: 0.7022\n",
            "Epoch 41/48\n",
            "57/57 [==============================] - 65s 1s/step - loss: 0.3257 - accuracy: 0.8998 - val_loss: 0.9721 - val_accuracy: 0.6889\n",
            "Epoch 42/48\n",
            "57/57 [==============================] - 69s 1s/step - loss: 0.3181 - accuracy: 0.9048 - val_loss: 1.0045 - val_accuracy: 0.6911\n",
            "Epoch 43/48\n",
            "57/57 [==============================] - 67s 1s/step - loss: 0.3064 - accuracy: 0.9110 - val_loss: 1.0257 - val_accuracy: 0.6956\n",
            "Epoch 44/48\n",
            "57/57 [==============================] - 65s 1s/step - loss: 0.3035 - accuracy: 0.9104 - val_loss: 1.0239 - val_accuracy: 0.6911\n",
            "Epoch 45/48\n",
            "57/57 [==============================] - 69s 1s/step - loss: 0.2846 - accuracy: 0.9176 - val_loss: 1.0223 - val_accuracy: 0.6956\n",
            "Epoch 46/48\n",
            "57/57 [==============================] - 64s 1s/step - loss: 0.2794 - accuracy: 0.9126 - val_loss: 1.0450 - val_accuracy: 0.6844\n",
            "Epoch 47/48\n",
            "57/57 [==============================] - 64s 1s/step - loss: 0.2664 - accuracy: 0.9204 - val_loss: 1.0050 - val_accuracy: 0.6933\n",
            "Epoch 48/48\n",
            "57/57 [==============================] - 74s 1s/step - loss: 0.2552 - accuracy: 0.9243 - val_loss: 1.0637 - val_accuracy: 0.6822\n"
          ]
        }
      ]
    },
    {
      "cell_type": "code",
      "source": [
        "model.save('/content/drive/MyDrive/DLNLP_Project/Models/full_trained_model', save_format='tf')"
      ],
      "metadata": {
        "id": "gyTJLG-N_dUo"
      },
      "execution_count": null,
      "outputs": []
    },
    {
      "cell_type": "markdown",
      "source": [
        "---"
      ],
      "metadata": {
        "id": "67l4zHsq4I_0"
      }
    },
    {
      "cell_type": "markdown",
      "source": [
        "## Evaluating the Model"
      ],
      "metadata": {
        "id": "OJ0rEf4X4L8S"
      }
    },
    {
      "cell_type": "code",
      "source": [
        "# Define a function to evaluate the model\n",
        "def evaluate_model(test_inputs, test_labels):\n",
        "    results = model.evaluate(test_inputs, test_labels)\n",
        "    print(\"Test Loss:\", results[0])\n",
        "    print(\"Test Accuracy:\", results[1])"
      ],
      "metadata": {
        "id": "MT39-rAb2BoK"
      },
      "execution_count": null,
      "outputs": []
    },
    {
      "cell_type": "code",
      "source": [
        "# Evaluate the model on the test dataset\n",
        "evaluate_model(test_inputs, test_labels)"
      ],
      "metadata": {
        "colab": {
          "base_uri": "https://localhost:8080/"
        },
        "id": "8d1CrpKk2uGe",
        "outputId": "5929b87b-9bb2-49b2-db8d-b7d6bfe8ae34"
      },
      "execution_count": null,
      "outputs": [
        {
          "output_type": "stream",
          "name": "stdout",
          "text": [
            "8/8 [==============================] - 3s 361ms/step - loss: 1.2508 - accuracy: 0.6320\n",
            "Test Loss: 1.2507719993591309\n",
            "Test Accuracy: 0.6320000290870667\n"
          ]
        }
      ]
    },
    {
      "cell_type": "markdown",
      "source": [
        "## Sample 1-Line Text"
      ],
      "metadata": {
        "id": "_E0EE_vX_pi5"
      }
    },
    {
      "cell_type": "code",
      "source": [
        "text = 'इसमें अच्छा परफॉरमेंस और क्षमता होने के साथ इसकी बैटरी लाइफ अन्य टेबलेट्स की तुलना में बहुत अच्छी है।'"
      ],
      "metadata": {
        "id": "7AG4TtCf8h7f"
      },
      "execution_count": null,
      "outputs": []
    },
    {
      "cell_type": "code",
      "source": [
        "output = model.predict(tokenizer(text=text, padding=True, truncation=True, max_length=128, return_tensors='tf'))"
      ],
      "metadata": {
        "colab": {
          "base_uri": "https://localhost:8080/"
        },
        "id": "71dL6o-08QXW",
        "outputId": "3611f6d8-0f5c-4683-ee2d-ac03640b79da"
      },
      "execution_count": null,
      "outputs": [
        {
          "output_type": "stream",
          "name": "stdout",
          "text": [
            "1/1 [==============================] - 1s 540ms/step\n"
          ]
        }
      ]
    },
    {
      "cell_type": "code",
      "source": [
        "output"
      ],
      "metadata": {
        "id": "Ws7oS1Ze9KNO",
        "colab": {
          "base_uri": "https://localhost:8080/"
        },
        "outputId": "2032510b-c826-442e-9008-54450e194742"
      },
      "execution_count": null,
      "outputs": [
        {
          "output_type": "execute_result",
          "data": {
            "text/plain": [
              "TFSequenceClassifierOutput(loss=None, logits=array([[ 1.399113  ,  0.45861956, -1.8765097 ]], dtype=float32), hidden_states=None, attentions=None)"
            ]
          },
          "metadata": {},
          "execution_count": 39
        }
      ]
    },
    {
      "cell_type": "code",
      "source": [
        "predicted_class = tf.argmax(output.logits, axis=1).numpy()[0]"
      ],
      "metadata": {
        "id": "xJgv6Vcf96M6"
      },
      "execution_count": null,
      "outputs": []
    },
    {
      "cell_type": "code",
      "source": [
        "# Reverse the label_map dictionary to map class values to labels\n",
        "reverse_label_map = {v: k for k, v in label_map.items()}\n",
        "\n",
        "# Get the label corresponding to the predicted class value\n",
        "predicted_label = reverse_label_map[predicted_class]\n",
        "\n",
        "print(f\"Input Text: {text}\\n\")\n",
        "# Display the predicted label\n",
        "print(\"Predicted label:\", predicted_label)"
      ],
      "metadata": {
        "id": "e1g5HjRy9-NN",
        "colab": {
          "base_uri": "https://localhost:8080/"
        },
        "outputId": "a7cd64c5-196b-450c-82cb-7cba66337c28"
      },
      "execution_count": null,
      "outputs": [
        {
          "output_type": "stream",
          "name": "stdout",
          "text": [
            "Input Text: इसमें अच्छा परफॉरमेंस और क्षमता होने के साथ इसकी बैटरी लाइफ अन्य टेबलेट्स की तुलना में बहुत अच्छी है।\n",
            "\n",
            "Predicted label: pos\n"
          ]
        }
      ]
    },
    {
      "cell_type": "markdown",
      "source": [
        "---\n",
        "---\n",
        "\n",
        "                                                                      The End!\n",
        "\n",
        "---\n",
        "---\n"
      ],
      "metadata": {
        "id": "Ojrva90aENRp"
      }
    }
  ]
}